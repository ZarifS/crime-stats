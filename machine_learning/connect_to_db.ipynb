{
 "cells": [
  {
   "cell_type": "code",
   "execution_count": 26,
   "metadata": {},
   "outputs": [],
   "source": [
    "from configparser import ConfigParser\n",
    "import psycopg2\n",
    "import numpy as np"
   ]
  },
  {
   "cell_type": "code",
   "execution_count": 27,
   "metadata": {},
   "outputs": [],
   "source": [
    "def config(filename='psql_sample.ini', section='postgresql'):\n",
    "    parser = ConfigParser()\n",
    "    # read config file\n",
    "    parser.read(filename)\n",
    "    # get section, default to postgresql\n",
    "    db = {}\n",
    "    if parser.has_section(section):\n",
    "        params = parser.items(section)\n",
    "        for param in params:\n",
    "            db[param[0]] = param[1]\n",
    "    else:\n",
    "        raise Exception('Section {0} not found in the {1} file'.format(section, filename))\n",
    "    \n",
    "    return db"
   ]
  },
  {
   "cell_type": "code",
   "execution_count": 28,
   "metadata": {},
   "outputs": [],
   "source": [
    "cfg = config()"
   ]
  },
  {
   "cell_type": "code",
   "execution_count": 29,
   "metadata": {},
   "outputs": [
    {
     "name": "stdout",
     "output_type": "stream",
     "text": [
      "Here's an attempt to connect to the database\n",
      "Look's like it was a success\n"
     ]
    }
   ],
   "source": [
    "#Establish the connection and create a cursor to the database\n",
    "try:\n",
    "    print(\"Here's an attempt to connect to the database\")\n",
    "    conn = psycopg2.connect(**cfg)\n",
    "    cursor = conn.cursor()\n",
    "    print(\"Look's like it was a success\")\n",
    "except (Exception, psycopg2.DatabaseError) as error:\n",
    "    print(error)"
   ]
  },
  {
   "cell_type": "code",
   "execution_count": 30,
   "metadata": {},
   "outputs": [
    {
     "name": "stdout",
     "output_type": "stream",
     "text": [
      "('dcebe6cb-1340-4e19-a435-c8ec88739350', 'c1d1493c-cb66-4aaa-b7eb-0e167d916b5f', 'bc1ad7bc-7145-492b-bf03-150dd37e7fb6', None, False, False, False)\n",
      "('dcebe6cb-1340-4e19-a435-c8ec88739350', '806bd97a-f867-466f-9715-22965b6f831d', '31f8d5e2-3385-41b4-a58c-2df03d5a3e72', None, True, False, False)\n",
      "('dcebe6cb-1340-4e19-a435-c8ec88739350', 'd244d300-c205-463e-84bf-d02360ad65b8', 'da29b75f-aedc-4035-8fcb-27fc1191d7dd', None, False, False, False)\n",
      "('dcebe6cb-1340-4e19-a435-c8ec88739350', '0d7303fb-e95c-4795-8482-1415a33737e5', '913b8a1f-af98-4f24-b01a-ce5f126eb2b3', None, False, False, False)\n",
      "('dcebe6cb-1340-4e19-a435-c8ec88739350', 'c1d1493c-cb66-4aaa-b7eb-0e167d916b5f', '36f6cd44-ba11-4d4d-af99-03fa7f3d3cd7', None, False, False, False)\n",
      "('8e6ee410-5547-496e-a58e-cbe0ffd4a16d', 'd9adefae-ce3a-4628-87a1-edf87d287952', '4da18b88-731d-479d-82ad-30b7f617011c', None, False, False, False)\n",
      "('3071b6d9-79c8-4f21-b168-6bdd2481cfbd', '956e485d-f54f-4b13-82ae-306be8990594', '1c35fe3f-8b73-47ec-80e9-9807d0767ae0', None, True, False, False)\n",
      "('5dcf8cf2-f3eb-4c60-9273-5b68981a571d', 'f844d944-07d6-4700-8188-478f3814f517', '07d20aa0-f254-44ea-9554-fc2aed40bf71', None, False, False, False)\n",
      "('5dcf8cf2-f3eb-4c60-9273-5b68981a571d', 'dc926e20-9399-47a4-8e03-33baf32b33fa', '9c3d4e54-2509-486a-9b87-42d4278968e2', None, True, False, False)\n",
      "('110bb0fc-61a4-48c1-a290-cd2e544f4469', 'af586901-a14e-49df-ae3a-80559ad210e9', 'fccb0135-9d30-452c-b006-5e306e5ee2d0', None, False, False, False)\n"
     ]
    }
   ],
   "source": [
    "try:\n",
    "    #Run a simple query\n",
    "    cursor.execute(\"SELECT * from t_fact_table limit 10\")\n",
    "    #Loop over the result set and print first 10 rows\n",
    "    for _ in np.arange(10):\n",
    "        one_row = cursor.fetchone()\n",
    "        print(one_row)\n",
    "except (Exception, psycopg2.DatabaseError) as error:\n",
    "    print(error)"
   ]
  },
  {
   "cell_type": "code",
   "execution_count": 32,
   "metadata": {},
   "outputs": [],
   "source": [
    "cursor.close()\n",
    "conn.close()"
   ]
  },
  {
   "cell_type": "code",
   "execution_count": null,
   "metadata": {},
   "outputs": [],
   "source": []
  }
 ],
 "metadata": {
  "kernelspec": {
   "display_name": "Python 3",
   "language": "python",
   "name": "python3"
  },
  "language_info": {
   "codemirror_mode": {
    "name": "ipython",
    "version": 3
   },
   "file_extension": ".py",
   "mimetype": "text/x-python",
   "name": "python",
   "nbconvert_exporter": "python",
   "pygments_lexer": "ipython3",
   "version": "3.6.9"
  }
 },
 "nbformat": 4,
 "nbformat_minor": 4
}
