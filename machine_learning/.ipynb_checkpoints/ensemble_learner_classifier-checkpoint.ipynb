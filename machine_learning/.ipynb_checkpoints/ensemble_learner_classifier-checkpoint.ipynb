{
 "cells": [
  {
   "cell_type": "code",
   "execution_count": 1,
   "metadata": {},
   "outputs": [
    {
     "data": {
      "text/html": [
       "<div>\n",
       "<style scoped>\n",
       "    .dataframe tbody tr th:only-of-type {\n",
       "        vertical-align: middle;\n",
       "    }\n",
       "\n",
       "    .dataframe tbody tr th {\n",
       "        vertical-align: top;\n",
       "    }\n",
       "\n",
       "    .dataframe thead th {\n",
       "        text-align: right;\n",
       "    }\n",
       "</style>\n",
       "<table border=\"1\" class=\"dataframe\">\n",
       "  <thead>\n",
       "    <tr style=\"text-align: right;\">\n",
       "      <th></th>\n",
       "      <th>Neighborhood</th>\n",
       "      <th>Is_Traffic</th>\n",
       "      <th>Is_fatal</th>\n",
       "      <th>Is_nighttime</th>\n",
       "      <th>Crime_type</th>\n",
       "      <th>Is_american_holiday</th>\n",
       "      <th>Is_canadian_holiday</th>\n",
       "      <th>Month</th>\n",
       "      <th>City</th>\n",
       "      <th>Season</th>\n",
       "    </tr>\n",
       "  </thead>\n",
       "  <tbody>\n",
       "    <tr>\n",
       "      <th>0</th>\n",
       "      <td>montbello</td>\n",
       "      <td>False</td>\n",
       "      <td>False</td>\n",
       "      <td>True</td>\n",
       "      <td>Theft</td>\n",
       "      <td>False</td>\n",
       "      <td>False</td>\n",
       "      <td>10</td>\n",
       "      <td>Denver</td>\n",
       "      <td>Fall</td>\n",
       "    </tr>\n",
       "    <tr>\n",
       "      <th>1</th>\n",
       "      <td>northeast-park-hill</td>\n",
       "      <td>True</td>\n",
       "      <td>False</td>\n",
       "      <td>True</td>\n",
       "      <td>Traffic Accident</td>\n",
       "      <td>False</td>\n",
       "      <td>False</td>\n",
       "      <td>1</td>\n",
       "      <td>Denver</td>\n",
       "      <td>Winter</td>\n",
       "    </tr>\n",
       "    <tr>\n",
       "      <th>2</th>\n",
       "      <td>montbello</td>\n",
       "      <td>True</td>\n",
       "      <td>False</td>\n",
       "      <td>True</td>\n",
       "      <td>Traffic Accident</td>\n",
       "      <td>False</td>\n",
       "      <td>False</td>\n",
       "      <td>1</td>\n",
       "      <td>Denver</td>\n",
       "      <td>Winter</td>\n",
       "    </tr>\n",
       "    <tr>\n",
       "      <th>3</th>\n",
       "      <td>montbello</td>\n",
       "      <td>False</td>\n",
       "      <td>False</td>\n",
       "      <td>True</td>\n",
       "      <td>Offence Against a Person</td>\n",
       "      <td>False</td>\n",
       "      <td>False</td>\n",
       "      <td>1</td>\n",
       "      <td>Denver</td>\n",
       "      <td>Winter</td>\n",
       "    </tr>\n",
       "    <tr>\n",
       "      <th>4</th>\n",
       "      <td>lincoln-park</td>\n",
       "      <td>False</td>\n",
       "      <td>False</td>\n",
       "      <td>True</td>\n",
       "      <td>Theft of Vehicle</td>\n",
       "      <td>False</td>\n",
       "      <td>False</td>\n",
       "      <td>1</td>\n",
       "      <td>Denver</td>\n",
       "      <td>Winter</td>\n",
       "    </tr>\n",
       "  </tbody>\n",
       "</table>\n",
       "</div>"
      ],
      "text/plain": [
       "          Neighborhood  Is_Traffic  Is_fatal  Is_nighttime  \\\n",
       "0            montbello       False     False          True   \n",
       "1  northeast-park-hill        True     False          True   \n",
       "2            montbello        True     False          True   \n",
       "3            montbello       False     False          True   \n",
       "4         lincoln-park       False     False          True   \n",
       "\n",
       "                 Crime_type  Is_american_holiday  Is_canadian_holiday  Month  \\\n",
       "0                     Theft                False                False     10   \n",
       "1          Traffic Accident                False                False      1   \n",
       "2          Traffic Accident                False                False      1   \n",
       "3  Offence Against a Person                False                False      1   \n",
       "4          Theft of Vehicle                False                False      1   \n",
       "\n",
       "     City  Season  \n",
       "0  Denver    Fall  \n",
       "1  Denver  Winter  \n",
       "2  Denver  Winter  \n",
       "3  Denver  Winter  \n",
       "4  Denver  Winter  "
      ]
     },
     "execution_count": 1,
     "metadata": {},
     "output_type": "execute_result"
    }
   ],
   "source": [
    "import pandas as pd\n",
    "full_dataset = pd.read_csv('./classification_dataset.csv')\n",
    "full_dataset.head()"
   ]
  },
  {
   "cell_type": "code",
   "execution_count": 2,
   "metadata": {},
   "outputs": [
    {
     "data": {
      "text/html": [
       "<div>\n",
       "<style scoped>\n",
       "    .dataframe tbody tr th:only-of-type {\n",
       "        vertical-align: middle;\n",
       "    }\n",
       "\n",
       "    .dataframe tbody tr th {\n",
       "        vertical-align: top;\n",
       "    }\n",
       "\n",
       "    .dataframe thead th {\n",
       "        text-align: right;\n",
       "    }\n",
       "</style>\n",
       "<table border=\"1\" class=\"dataframe\">\n",
       "  <thead>\n",
       "    <tr style=\"text-align: right;\">\n",
       "      <th></th>\n",
       "      <th>Neighborhood</th>\n",
       "      <th>Is_Traffic</th>\n",
       "      <th>Is_fatal</th>\n",
       "      <th>Is_nighttime</th>\n",
       "      <th>Crime_type</th>\n",
       "      <th>Is_american_holiday</th>\n",
       "      <th>Is_canadian_holiday</th>\n",
       "      <th>Month</th>\n",
       "      <th>City</th>\n",
       "      <th>Season</th>\n",
       "    </tr>\n",
       "  </thead>\n",
       "  <tbody>\n",
       "    <tr>\n",
       "      <th>0</th>\n",
       "      <td>montbello</td>\n",
       "      <td>False</td>\n",
       "      <td>False</td>\n",
       "      <td>True</td>\n",
       "      <td>Theft</td>\n",
       "      <td>False</td>\n",
       "      <td>False</td>\n",
       "      <td>10</td>\n",
       "      <td>Denver</td>\n",
       "      <td>0</td>\n",
       "    </tr>\n",
       "    <tr>\n",
       "      <th>1</th>\n",
       "      <td>northeast-park-hill</td>\n",
       "      <td>True</td>\n",
       "      <td>False</td>\n",
       "      <td>True</td>\n",
       "      <td>Traffic Accident</td>\n",
       "      <td>False</td>\n",
       "      <td>False</td>\n",
       "      <td>1</td>\n",
       "      <td>Denver</td>\n",
       "      <td>3</td>\n",
       "    </tr>\n",
       "    <tr>\n",
       "      <th>2</th>\n",
       "      <td>montbello</td>\n",
       "      <td>True</td>\n",
       "      <td>False</td>\n",
       "      <td>True</td>\n",
       "      <td>Traffic Accident</td>\n",
       "      <td>False</td>\n",
       "      <td>False</td>\n",
       "      <td>1</td>\n",
       "      <td>Denver</td>\n",
       "      <td>3</td>\n",
       "    </tr>\n",
       "    <tr>\n",
       "      <th>3</th>\n",
       "      <td>montbello</td>\n",
       "      <td>False</td>\n",
       "      <td>False</td>\n",
       "      <td>True</td>\n",
       "      <td>Offence Against a Person</td>\n",
       "      <td>False</td>\n",
       "      <td>False</td>\n",
       "      <td>1</td>\n",
       "      <td>Denver</td>\n",
       "      <td>3</td>\n",
       "    </tr>\n",
       "    <tr>\n",
       "      <th>4</th>\n",
       "      <td>lincoln-park</td>\n",
       "      <td>False</td>\n",
       "      <td>False</td>\n",
       "      <td>True</td>\n",
       "      <td>Theft of Vehicle</td>\n",
       "      <td>False</td>\n",
       "      <td>False</td>\n",
       "      <td>1</td>\n",
       "      <td>Denver</td>\n",
       "      <td>3</td>\n",
       "    </tr>\n",
       "  </tbody>\n",
       "</table>\n",
       "</div>"
      ],
      "text/plain": [
       "          Neighborhood  Is_Traffic  Is_fatal  Is_nighttime  \\\n",
       "0            montbello       False     False          True   \n",
       "1  northeast-park-hill        True     False          True   \n",
       "2            montbello        True     False          True   \n",
       "3            montbello       False     False          True   \n",
       "4         lincoln-park       False     False          True   \n",
       "\n",
       "                 Crime_type  Is_american_holiday  Is_canadian_holiday  Month  \\\n",
       "0                     Theft                False                False     10   \n",
       "1          Traffic Accident                False                False      1   \n",
       "2          Traffic Accident                False                False      1   \n",
       "3  Offence Against a Person                False                False      1   \n",
       "4          Theft of Vehicle                False                False      1   \n",
       "\n",
       "     City  Season  \n",
       "0  Denver       0  \n",
       "1  Denver       3  \n",
       "2  Denver       3  \n",
       "3  Denver       3  \n",
       "4  Denver       3  "
      ]
     },
     "execution_count": 2,
     "metadata": {},
     "output_type": "execute_result"
    }
   ],
   "source": [
    "from sklearn.preprocessing import LabelEncoder\n",
    "le = LabelEncoder()\n",
    "le.fit(full_dataset['Season'])\n",
    "full_dataset['Season'] = le.transform(full_dataset['Season'])\n",
    "full_dataset.head()"
   ]
  },
  {
   "cell_type": "code",
   "execution_count": 3,
   "metadata": {},
   "outputs": [
    {
     "data": {
      "text/html": [
       "<div>\n",
       "<style scoped>\n",
       "    .dataframe tbody tr th:only-of-type {\n",
       "        vertical-align: middle;\n",
       "    }\n",
       "\n",
       "    .dataframe tbody tr th {\n",
       "        vertical-align: top;\n",
       "    }\n",
       "\n",
       "    .dataframe thead th {\n",
       "        text-align: right;\n",
       "    }\n",
       "</style>\n",
       "<table border=\"1\" class=\"dataframe\">\n",
       "  <thead>\n",
       "    <tr style=\"text-align: right;\">\n",
       "      <th></th>\n",
       "      <th>Is_Traffic</th>\n",
       "      <th>Is_fatal</th>\n",
       "      <th>Is_nighttime</th>\n",
       "      <th>Is_american_holiday</th>\n",
       "      <th>Is_canadian_holiday</th>\n",
       "      <th>Month</th>\n",
       "      <th>Season</th>\n",
       "      <th>Neighborhood_Arbutus Ridge</th>\n",
       "      <th>Neighborhood_Central Business District</th>\n",
       "      <th>Neighborhood_Dunbar-Southlands</th>\n",
       "      <th>...</th>\n",
       "      <th>Crime_type_Mischief</th>\n",
       "      <th>Crime_type_Offence Against a Person</th>\n",
       "      <th>Crime_type_Other  Crimes</th>\n",
       "      <th>Crime_type_Other Crimes</th>\n",
       "      <th>Crime_type_Theft</th>\n",
       "      <th>Crime_type_Theft from Vehicle</th>\n",
       "      <th>Crime_type_Theft of Vehicle</th>\n",
       "      <th>Crime_type_Traffic Accident</th>\n",
       "      <th>City_Denver</th>\n",
       "      <th>City_Vancouver</th>\n",
       "    </tr>\n",
       "  </thead>\n",
       "  <tbody>\n",
       "    <tr>\n",
       "      <th>0</th>\n",
       "      <td>False</td>\n",
       "      <td>False</td>\n",
       "      <td>True</td>\n",
       "      <td>False</td>\n",
       "      <td>False</td>\n",
       "      <td>10</td>\n",
       "      <td>0</td>\n",
       "      <td>0</td>\n",
       "      <td>0</td>\n",
       "      <td>0</td>\n",
       "      <td>...</td>\n",
       "      <td>0</td>\n",
       "      <td>0</td>\n",
       "      <td>0</td>\n",
       "      <td>0</td>\n",
       "      <td>1</td>\n",
       "      <td>0</td>\n",
       "      <td>0</td>\n",
       "      <td>0</td>\n",
       "      <td>1</td>\n",
       "      <td>0</td>\n",
       "    </tr>\n",
       "    <tr>\n",
       "      <th>1</th>\n",
       "      <td>True</td>\n",
       "      <td>False</td>\n",
       "      <td>True</td>\n",
       "      <td>False</td>\n",
       "      <td>False</td>\n",
       "      <td>1</td>\n",
       "      <td>3</td>\n",
       "      <td>0</td>\n",
       "      <td>0</td>\n",
       "      <td>0</td>\n",
       "      <td>...</td>\n",
       "      <td>0</td>\n",
       "      <td>0</td>\n",
       "      <td>0</td>\n",
       "      <td>0</td>\n",
       "      <td>0</td>\n",
       "      <td>0</td>\n",
       "      <td>0</td>\n",
       "      <td>1</td>\n",
       "      <td>1</td>\n",
       "      <td>0</td>\n",
       "    </tr>\n",
       "    <tr>\n",
       "      <th>2</th>\n",
       "      <td>True</td>\n",
       "      <td>False</td>\n",
       "      <td>True</td>\n",
       "      <td>False</td>\n",
       "      <td>False</td>\n",
       "      <td>1</td>\n",
       "      <td>3</td>\n",
       "      <td>0</td>\n",
       "      <td>0</td>\n",
       "      <td>0</td>\n",
       "      <td>...</td>\n",
       "      <td>0</td>\n",
       "      <td>0</td>\n",
       "      <td>0</td>\n",
       "      <td>0</td>\n",
       "      <td>0</td>\n",
       "      <td>0</td>\n",
       "      <td>0</td>\n",
       "      <td>1</td>\n",
       "      <td>1</td>\n",
       "      <td>0</td>\n",
       "    </tr>\n",
       "    <tr>\n",
       "      <th>3</th>\n",
       "      <td>False</td>\n",
       "      <td>False</td>\n",
       "      <td>True</td>\n",
       "      <td>False</td>\n",
       "      <td>False</td>\n",
       "      <td>1</td>\n",
       "      <td>3</td>\n",
       "      <td>0</td>\n",
       "      <td>0</td>\n",
       "      <td>0</td>\n",
       "      <td>...</td>\n",
       "      <td>0</td>\n",
       "      <td>1</td>\n",
       "      <td>0</td>\n",
       "      <td>0</td>\n",
       "      <td>0</td>\n",
       "      <td>0</td>\n",
       "      <td>0</td>\n",
       "      <td>0</td>\n",
       "      <td>1</td>\n",
       "      <td>0</td>\n",
       "    </tr>\n",
       "    <tr>\n",
       "      <th>4</th>\n",
       "      <td>False</td>\n",
       "      <td>False</td>\n",
       "      <td>True</td>\n",
       "      <td>False</td>\n",
       "      <td>False</td>\n",
       "      <td>1</td>\n",
       "      <td>3</td>\n",
       "      <td>0</td>\n",
       "      <td>0</td>\n",
       "      <td>0</td>\n",
       "      <td>...</td>\n",
       "      <td>0</td>\n",
       "      <td>0</td>\n",
       "      <td>0</td>\n",
       "      <td>0</td>\n",
       "      <td>0</td>\n",
       "      <td>0</td>\n",
       "      <td>1</td>\n",
       "      <td>0</td>\n",
       "      <td>1</td>\n",
       "      <td>0</td>\n",
       "    </tr>\n",
       "  </tbody>\n",
       "</table>\n",
       "<p>5 rows × 121 columns</p>\n",
       "</div>"
      ],
      "text/plain": [
       "   Is_Traffic  Is_fatal  Is_nighttime  Is_american_holiday  \\\n",
       "0       False     False          True                False   \n",
       "1        True     False          True                False   \n",
       "2        True     False          True                False   \n",
       "3       False     False          True                False   \n",
       "4       False     False          True                False   \n",
       "\n",
       "   Is_canadian_holiday  Month  Season  Neighborhood_Arbutus Ridge  \\\n",
       "0                False     10       0                           0   \n",
       "1                False      1       3                           0   \n",
       "2                False      1       3                           0   \n",
       "3                False      1       3                           0   \n",
       "4                False      1       3                           0   \n",
       "\n",
       "   Neighborhood_Central Business District  Neighborhood_Dunbar-Southlands  \\\n",
       "0                                       0                               0   \n",
       "1                                       0                               0   \n",
       "2                                       0                               0   \n",
       "3                                       0                               0   \n",
       "4                                       0                               0   \n",
       "\n",
       "   ...  Crime_type_Mischief  Crime_type_Offence Against a Person  \\\n",
       "0  ...                    0                                    0   \n",
       "1  ...                    0                                    0   \n",
       "2  ...                    0                                    0   \n",
       "3  ...                    0                                    1   \n",
       "4  ...                    0                                    0   \n",
       "\n",
       "   Crime_type_Other  Crimes  Crime_type_Other Crimes  Crime_type_Theft  \\\n",
       "0                         0                        0                 1   \n",
       "1                         0                        0                 0   \n",
       "2                         0                        0                 0   \n",
       "3                         0                        0                 0   \n",
       "4                         0                        0                 0   \n",
       "\n",
       "   Crime_type_Theft from Vehicle  Crime_type_Theft of Vehicle  \\\n",
       "0                              0                            0   \n",
       "1                              0                            0   \n",
       "2                              0                            0   \n",
       "3                              0                            0   \n",
       "4                              0                            1   \n",
       "\n",
       "   Crime_type_Traffic Accident  City_Denver  City_Vancouver  \n",
       "0                            0            1               0  \n",
       "1                            1            1               0  \n",
       "2                            1            1               0  \n",
       "3                            0            1               0  \n",
       "4                            0            1               0  \n",
       "\n",
       "[5 rows x 121 columns]"
      ]
     },
     "execution_count": 3,
     "metadata": {},
     "output_type": "execute_result"
    }
   ],
   "source": [
    "#One hot encoding Neighborhood\n",
    "full_dataset = pd.get_dummies(full_dataset)\n",
    "\n",
    "full_dataset.head()\n",
    "# full_dataset.Neighborhood.unique()"
   ]
  },
  {
   "cell_type": "code",
   "execution_count": 5,
   "metadata": {},
   "outputs": [
    {
     "name": "stdout",
     "output_type": "stream",
     "text": [
      "Index(['Is_Traffic', 'Is_fatal', 'Is_nighttime', 'Is_american_holiday',\n",
      "       'Is_canadian_holiday', 'Month', 'Season', 'Neighborhood_Arbutus Ridge',\n",
      "       'Neighborhood_Central Business District',\n",
      "       'Neighborhood_Dunbar-Southlands',\n",
      "       ...\n",
      "       'Crime_type_Mischief', 'Crime_type_Offence Against a Person',\n",
      "       'Crime_type_Other  Crimes', 'Crime_type_Other Crimes',\n",
      "       'Crime_type_Theft', 'Crime_type_Theft from Vehicle',\n",
      "       'Crime_type_Theft of Vehicle', 'Crime_type_Traffic Accident',\n",
      "       'City_Denver', 'City_Vancouver'],\n",
      "      dtype='object', length=121)\n"
     ]
    }
   ],
   "source": [
    "print(full_dataset.columns)"
   ]
  },
  {
   "cell_type": "code",
   "execution_count": 4,
   "metadata": {},
   "outputs": [
    {
     "name": "stdout",
     "output_type": "stream",
     "text": [
      "(660763, 120)\n"
     ]
    },
    {
     "data": {
      "text/plain": [
       "(660763,)"
      ]
     },
     "execution_count": 4,
     "metadata": {},
     "output_type": "execute_result"
    }
   ],
   "source": [
    "#Split dataset into x and y \n",
    "full_dataset.shape\n",
    "x = full_dataset.drop(columns = ['Season'])\n",
    "print(x.shape)\n",
    "y = full_dataset['Season']\n",
    "y.shape"
   ]
  },
  {
   "cell_type": "code",
   "execution_count": 5,
   "metadata": {},
   "outputs": [],
   "source": [
    "#Split dataset into training and test set\n",
    "from sklearn.model_selection import train_test_split\n",
    "x_train, x_test, y_train, y_test = train_test_split(x, y, test_size=0.3, stratify=y)"
   ]
  },
  {
   "cell_type": "code",
   "execution_count": 15,
   "metadata": {},
   "outputs": [
    {
     "name": "stdout",
     "output_type": "stream",
     "text": [
      "Counter({2: 119502, 3: 115469, 0: 115457, 1: 112106})\n"
     ]
    },
    {
     "data": {
      "text/plain": [
       "(462534,)"
      ]
     },
     "execution_count": 15,
     "metadata": {},
     "output_type": "execute_result"
    }
   ],
   "source": [
    "#checking for imbalances in dataset\n",
    "from collections import Counter\n",
    "print(Counter(y_train))"
   ]
  },
  {
   "cell_type": "code",
   "execution_count": 27,
   "metadata": {},
   "outputs": [
    {
     "name": "stderr",
     "output_type": "stream",
     "text": [
      "/home/zaid/.local/lib/python3.6/site-packages/sklearn/linear_model/logistic.py:947: ConvergenceWarning: lbfgs failed to converge. Increase the number of iterations.\n",
      "  \"of iterations.\", ConvergenceWarning)\n"
     ]
    },
    {
     "data": {
      "text/plain": [
       "LogisticRegression(C=1.0, class_weight=None, dual=False, fit_intercept=True,\n",
       "                   intercept_scaling=1, l1_ratio=None, max_iter=200,\n",
       "                   multi_class='multinomial', n_jobs=None, penalty='l2',\n",
       "                   random_state=None, solver='lbfgs', tol=0.0001, verbose=0,\n",
       "                   warm_start=False)"
      ]
     },
     "execution_count": 27,
     "metadata": {},
     "output_type": "execute_result"
    }
   ],
   "source": [
    "#logistic regression classifier\n",
    "#code from https://towardsdatascience.com/ensemble-learning-using-scikit-learn-85c4531ff86a\n",
    "from sklearn.linear_model import LogisticRegression\n",
    "log_reg = LogisticRegression(solver='lbfgs', max_iter=200, multi_class='multinomial')\n",
    "log_reg.fit(x_train, y_train)"
   ]
  },
  {
   "cell_type": "code",
   "execution_count": 28,
   "metadata": {},
   "outputs": [
    {
     "name": "stdout",
     "output_type": "stream",
     "text": [
      "[1 3 1 ... 1 2 0]\n"
     ]
    }
   ],
   "source": [
    "y_pred = log_reg.predict(x_test)\n",
    "print(y_pred)"
   ]
  },
  {
   "cell_type": "code",
   "execution_count": 29,
   "metadata": {},
   "outputs": [
    {
     "name": "stdout",
     "output_type": "stream",
     "text": [
      "Recall of Decision Tree 63.86 %\n",
      "precision of Decision Tree 63.86 %\n"
     ]
    }
   ],
   "source": [
    "#metrics to see the accuracy and precision of the model\n",
    "from sklearn.metrics import recall_score, precision_score\n",
    "\n",
    "recall = recall_score(y_pred, y_test, average='micro') * 100\n",
    "precision = precision_score(y_pred, y_test, average='micro') * 100\n",
    "print(\"Recall of Decision Tree {:.2f} %\".format(recall))\n",
    "print(\"precision of Decision Tree {:.2f} %\".format(precision))"
   ]
  },
  {
   "cell_type": "code",
   "execution_count": 8,
   "metadata": {},
   "outputs": [],
   "source": [
    "##KNN Implementation\n",
    "from sklearn.neighbors import KNeighborsClassifier\n",
    "knn = KNeighborsClassifier()\n"
   ]
  },
  {
   "cell_type": "code",
   "execution_count": 15,
   "metadata": {},
   "outputs": [
    {
     "name": "stdout",
     "output_type": "stream",
     "text": [
      "        Is_Traffic  Is_fatal  Is_nighttime  Is_american_holiday  \\\n",
      "218967        True     False          True                False   \n",
      "253769       False     False         False                False   \n",
      "197589       False     False          True                False   \n",
      "157534       False     False          True                False   \n",
      "235903       False     False          True                False   \n",
      "...            ...       ...           ...                  ...   \n",
      "412317       False     False          True                 True   \n",
      "213808       False     False          True                False   \n",
      "645152       False     False          True                False   \n",
      "37204         True     False          True                False   \n",
      "418436       False     False          True                False   \n",
      "\n",
      "        Is_canadian_holiday  Month  Neighborhood_Arbutus Ridge  \\\n",
      "218967                False      5                           0   \n",
      "253769                False      2                           0   \n",
      "197589                False     10                           0   \n",
      "157534                False      4                           0   \n",
      "235903                False      5                           0   \n",
      "...                     ...    ...                         ...   \n",
      "412317                False      2                           0   \n",
      "213808                False      4                           0   \n",
      "645152                False     10                           0   \n",
      "37204                 False      4                           0   \n",
      "418436                False      9                           0   \n",
      "\n",
      "        Neighborhood_Central Business District  \\\n",
      "218967                                       0   \n",
      "253769                                       0   \n",
      "197589                                       0   \n",
      "157534                                       0   \n",
      "235903                                       0   \n",
      "...                                        ...   \n",
      "412317                                       0   \n",
      "213808                                       0   \n",
      "645152                                       0   \n",
      "37204                                        0   \n",
      "418436                                       0   \n",
      "\n",
      "        Neighborhood_Dunbar-Southlands  Neighborhood_Fairview  ...  \\\n",
      "218967                               0                      0  ...   \n",
      "253769                               0                      0  ...   \n",
      "197589                               0                      0  ...   \n",
      "157534                               0                      0  ...   \n",
      "235903                               0                      0  ...   \n",
      "...                                ...                    ...  ...   \n",
      "412317                               0                      0  ...   \n",
      "213808                               0                      0  ...   \n",
      "645152                               0                      0  ...   \n",
      "37204                                0                      0  ...   \n",
      "418436                               0                      0  ...   \n",
      "\n",
      "        Crime_type_Mischief  Crime_type_Offence Against a Person  \\\n",
      "218967                    0                                    0   \n",
      "253769                    1                                    0   \n",
      "197589                    0                                    0   \n",
      "157534                    0                                    0   \n",
      "235903                    0                                    0   \n",
      "...                     ...                                  ...   \n",
      "412317                    1                                    0   \n",
      "213808                    0                                    0   \n",
      "645152                    0                                    0   \n",
      "37204                     0                                    0   \n",
      "418436                    0                                    1   \n",
      "\n",
      "        Crime_type_Other  Crimes  Crime_type_Other Crimes  Crime_type_Theft  \\\n",
      "218967                         0                        0                 0   \n",
      "253769                         0                        0                 0   \n",
      "197589                         0                        0                 0   \n",
      "157534                         0                        0                 0   \n",
      "235903                         0                        1                 0   \n",
      "...                          ...                      ...               ...   \n",
      "412317                         0                        0                 0   \n",
      "213808                         0                        0                 0   \n",
      "645152                         0                        1                 0   \n",
      "37204                          0                        0                 0   \n",
      "418436                         0                        0                 0   \n",
      "\n",
      "        Crime_type_Theft from Vehicle  Crime_type_Theft of Vehicle  \\\n",
      "218967                              0                            0   \n",
      "253769                              0                            0   \n",
      "197589                              1                            0   \n",
      "157534                              0                            0   \n",
      "235903                              0                            0   \n",
      "...                               ...                          ...   \n",
      "412317                              0                            0   \n",
      "213808                              1                            0   \n",
      "645152                              0                            0   \n",
      "37204                               0                            0   \n",
      "418436                              0                            0   \n",
      "\n",
      "        Crime_type_Traffic Accident  City_Denver  City_Vancouver  \n",
      "218967                            1            1               0  \n",
      "253769                            0            0               1  \n",
      "197589                            0            0               1  \n",
      "157534                            0            1               0  \n",
      "235903                            0            1               0  \n",
      "...                             ...          ...             ...  \n",
      "412317                            0            0               1  \n",
      "213808                            0            0               1  \n",
      "645152                            0            1               0  \n",
      "37204                             1            1               0  \n",
      "418436                            0            1               0  \n",
      "\n",
      "[100 rows x 120 columns]\n"
     ]
    },
    {
     "data": {
      "text/plain": [
       "KNeighborsClassifier(algorithm='auto', leaf_size=30, metric='minkowski',\n",
       "                     metric_params=None, n_jobs=None, n_neighbors=5, p=2,\n",
       "                     weights='uniform')"
      ]
     },
     "execution_count": 15,
     "metadata": {},
     "output_type": "execute_result"
    }
   ],
   "source": [
    "knn.fit(x_train.iloc[:100, :], y_train.iloc[:100])"
   ]
  },
  {
   "cell_type": "code",
   "execution_count": 17,
   "metadata": {},
   "outputs": [
    {
     "name": "stdout",
     "output_type": "stream",
     "text": [
      "Recall of KNN 93.75 %\n",
      "precision of KNN 93.75 %\n"
     ]
    }
   ],
   "source": [
    "y_pred = knn.predict(x_test)\n",
    "#metrics to see the accuracy and precision of the model\n",
    "from sklearn.metrics import recall_score, precision_score\n",
    "\n",
    "recall = recall_score(y_pred, y_test, average='micro') * 100\n",
    "precision = precision_score(y_pred, y_test, average='micro') * 100\n",
    "print(\"Recall of KNN {:.2f} %\".format(recall))\n",
    "print(\"precision of KNN {:.2f} %\".format(precision))"
   ]
  },
  {
   "cell_type": "code",
   "execution_count": 18,
   "metadata": {},
   "outputs": [
    {
     "name": "stderr",
     "output_type": "stream",
     "text": [
      "/home/zaid/.local/lib/python3.6/site-packages/sklearn/ensemble/forest.py:245: FutureWarning: The default value of n_estimators will change from 10 in version 0.20 to 100 in 0.22.\n",
      "  \"10 in version 0.20 to 100 in 0.22.\", FutureWarning)\n"
     ]
    },
    {
     "data": {
      "text/plain": [
       "RandomForestClassifier(bootstrap=True, class_weight=None, criterion='gini',\n",
       "                       max_depth=None, max_features='auto', max_leaf_nodes=None,\n",
       "                       min_impurity_decrease=0.0, min_impurity_split=None,\n",
       "                       min_samples_leaf=1, min_samples_split=2,\n",
       "                       min_weight_fraction_leaf=0.0, n_estimators=10,\n",
       "                       n_jobs=None, oob_score=False, random_state=None,\n",
       "                       verbose=0, warm_start=False)"
      ]
     },
     "execution_count": 18,
     "metadata": {},
     "output_type": "execute_result"
    }
   ],
   "source": [
    "from sklearn.ensemble import RandomForestClassifier\n",
    "#create a new random forest classifier\n",
    "rf = RandomForestClassifier()\n",
    "rf.fit(x_train, y_train)"
   ]
  },
  {
   "cell_type": "code",
   "execution_count": 19,
   "metadata": {},
   "outputs": [
    {
     "name": "stdout",
     "output_type": "stream",
     "text": [
      "Recall of Random Forest 99.98 %\n",
      "precision of Random Forest 99.98 %\n"
     ]
    }
   ],
   "source": [
    "y_pred = rf.predict(x_test)\n",
    "from sklearn.metrics import recall_score, precision_score\n",
    "\n",
    "recall = recall_score(y_pred, y_test, average='micro') * 100\n",
    "precision = precision_score(y_pred, y_test, average='micro') * 100\n",
    "print(\"Recall of Random Forest {:.2f} %\".format(recall))\n",
    "print(\"precision of Random Forest {:.2f} %\".format(precision))"
   ]
  },
  {
   "cell_type": "code",
   "execution_count": null,
   "metadata": {},
   "outputs": [],
   "source": []
  }
 ],
 "metadata": {
  "kernelspec": {
   "display_name": "venv",
   "language": "python",
   "name": "venv"
  },
  "language_info": {
   "codemirror_mode": {
    "name": "ipython",
    "version": 3
   },
   "file_extension": ".py",
   "mimetype": "text/x-python",
   "name": "python",
   "nbconvert_exporter": "python",
   "pygments_lexer": "ipython3",
   "version": "3.6.9"
  }
 },
 "nbformat": 4,
 "nbformat_minor": 4
}
