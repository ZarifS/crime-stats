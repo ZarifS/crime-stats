{
 "cells": [
  {
   "cell_type": "code",
   "execution_count": 1,
   "metadata": {},
   "outputs": [],
   "source": [
    "from configparser import ConfigParser\n",
    "import psycopg2\n",
    "import numpy as np"
   ]
  },
  {
   "cell_type": "code",
   "execution_count": 2,
   "metadata": {},
   "outputs": [],
   "source": [
    "def config(filename='psql_sample.ini', section='postgresql'):\n",
    "    parser = ConfigParser()\n",
    "    # read config file\n",
    "    parser.read(filename)\n",
    "    # get section, default to postgresql\n",
    "    db = {}\n",
    "    if parser.has_section(section):\n",
    "        params = parser.items(section)\n",
    "        for param in params:\n",
    "            db[param[0]] = param[1]\n",
    "    else:\n",
    "        raise Exception('Section {0} not found in the {1} file'.format(section, filename))\n",
    "    \n",
    "    return db"
   ]
  },
  {
   "cell_type": "code",
   "execution_count": 3,
   "metadata": {},
   "outputs": [],
   "source": [
    "cfg = config()"
   ]
  },
  {
   "cell_type": "code",
   "execution_count": 4,
   "metadata": {},
   "outputs": [
    {
     "name": "stdout",
     "output_type": "stream",
     "text": [
      "Here's an attempt to connect to the database\n",
      "Look's like it was a success\n"
     ]
    }
   ],
   "source": [
    "#Establish the connection and create a cursor to the database\n",
    "try:\n",
    "    print(\"Here's an attempt to connect to the database\")\n",
    "    conn = psycopg2.connect(**cfg)\n",
    "    cursor = conn.cursor()\n",
    "    print(\"Look's like it was a success\")\n",
    "except (Exception, psycopg2.DatabaseError) as error:\n",
    "    print(error)"
   ]
  },
  {
   "cell_type": "code",
   "execution_count": 7,
   "metadata": {},
   "outputs": [],
   "source": [
    "dataframe_query = '''\n",
    "select \n",
    "\tneighborhood,\n",
    "\tis_traffic,\n",
    "\tis_fatal,\n",
    "\tis_nighttime\n",
    "\tcrime_type,\n",
    "\tis_american_holiday,\n",
    "\tis_canadian_holiday,\n",
    "\tmonth,\n",
    "\tcity\n",
    "from t_fact_table\n",
    "inner join t_location_dim on t_location_dim.location_key = t_fact_table.location_key\n",
    "inner join t_crime_dim on t_crime_dim.crime_key = t_fact_table.crime_key\n",
    "inner join t_date_dim on t_date_dim.date_key = t_fact_table.date_key\n",
    "'''\n",
    "try:\n",
    "    #Run a simple query\n",
    "    cursor.execute(dataframe_query)\n",
    "    #Loop over the result set and print first 10 rows\n",
    "    result_list = cursor.fetchall()\n",
    "except (Exception, psycopg2.DatabaseError) as error:\n",
    "    print(error)"
   ]
  },
  {
   "cell_type": "code",
   "execution_count": 8,
   "metadata": {},
   "outputs": [],
   "source": [
    "#close connection\n",
    "cursor.close()\n",
    "conn.close()"
   ]
  },
  {
   "cell_type": "code",
   "execution_count": 10,
   "metadata": {},
   "outputs": [
    {
     "name": "stdout",
     "output_type": "stream",
     "text": [
      "[('South Cambie', False, False, False, False, False, '6', 'Vancouver'), ('South Cambie', False, False, False, False, False, '11', 'Vancouver'), ('Sunset', False, False, False, False, False, '11', 'Vancouver'), (None, False, True, True, False, False, '10', 'Vancouver'), (None, False, True, True, False, False, '9', 'Vancouver'), ('West End', False, False, False, False, False, '3', 'Vancouver'), ('West End', False, False, False, False, False, '1', 'Vancouver'), ('West End', False, False, True, False, False, '12', 'Vancouver'), ('West End', False, False, False, False, False, '5', 'Vancouver'), ('West End', False, False, True, False, False, '10', 'Vancouver')]\n"
     ]
    }
   ],
   "source": [
    "print(result_list[0:10])"
   ]
  },
  {
   "cell_type": "code",
   "execution_count": null,
   "metadata": {},
   "outputs": [],
   "source": []
  }
 ],
 "metadata": {
  "kernelspec": {
   "display_name": "venv",
   "language": "python",
   "name": "venv"
  },
  "language_info": {
   "codemirror_mode": {
    "name": "ipython",
    "version": 3
   },
   "file_extension": ".py",
   "mimetype": "text/x-python",
   "name": "python",
   "nbconvert_exporter": "python",
   "pygments_lexer": "ipython3",
   "version": "3.6.9"
  }
 },
 "nbformat": 4,
 "nbformat_minor": 4
}
