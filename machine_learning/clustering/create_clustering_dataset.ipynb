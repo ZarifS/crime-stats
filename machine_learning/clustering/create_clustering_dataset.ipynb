{
 "cells": [
  {
   "cell_type": "code",
   "execution_count": 1,
   "metadata": {},
   "outputs": [],
   "source": [
    "from configparser import ConfigParser\n",
    "import psycopg2\n",
    "import numpy as np"
   ]
  },
  {
   "cell_type": "code",
   "execution_count": 4,
   "metadata": {},
   "outputs": [],
   "source": [
    "def config(filename='../psql_sample.ini', section='postgresql'):\n",
    "    parser = ConfigParser()\n",
    "    # read config file\n",
    "    parser.read(filename)\n",
    "    # get section, default to postgresql\n",
    "    db = {}\n",
    "    if parser.has_section(section):\n",
    "        params = parser.items(section)\n",
    "        for param in params:\n",
    "            db[param[0]] = param[1]\n",
    "    else:\n",
    "        raise Exception('Section {0} not found in the {1} file'.format(section, filename))\n",
    "    \n",
    "    return db"
   ]
  },
  {
   "cell_type": "code",
   "execution_count": 5,
   "metadata": {},
   "outputs": [],
   "source": [
    "cfg = config()"
   ]
  },
  {
   "cell_type": "code",
   "execution_count": 6,
   "metadata": {},
   "outputs": [
    {
     "name": "stdout",
     "output_type": "stream",
     "text": [
      "Here's an attempt to connect to the database\n",
      "Look's like it was a success\n"
     ]
    }
   ],
   "source": [
    "#Establish the connection and create a cursor to the database\n",
    "try:\n",
    "    print(\"Here's an attempt to connect to the database\")\n",
    "    conn = psycopg2.connect(**cfg)\n",
    "    cursor = conn.cursor()\n",
    "    print(\"Look's like it was a success\")\n",
    "except (Exception, psycopg2.DatabaseError) as error:\n",
    "    print(error)"
   ]
  },
  {
   "cell_type": "code",
   "execution_count": 7,
   "metadata": {},
   "outputs": [],
   "source": [
    "dataframe_query = '''\n",
    "select \n",
    "\tneighborhood,\n",
    "\tcount(*) as theft_from_vehicle_counts\n",
    "from t_fact_table\n",
    "left join t_crime_dim on t_crime_dim.crime_key = t_fact_table.crime_key\n",
    "left join t_location_dim on t_location_dim.location_key = t_fact_table.location_key\n",
    "where crime_type = 'Theft from Vehicle'\n",
    "group by neighborhood\n",
    "order by theft_from_vehicle_counts desc\n",
    "'''\n",
    "try:\n",
    "    #Run a simple query\n",
    "    cursor.execute(dataframe_query)\n",
    "    #Loop over the result set and print first 10 rows\n",
    "    result_list = cursor.fetchall()\n",
    "except (Exception, psycopg2.DatabaseError) as error:\n",
    "    print(error)"
   ]
  },
  {
   "cell_type": "code",
   "execution_count": 8,
   "metadata": {},
   "outputs": [],
   "source": [
    "#close connection\n",
    "cursor.close()\n",
    "conn.close()"
   ]
  },
  {
   "cell_type": "code",
   "execution_count": 10,
   "metadata": {},
   "outputs": [
    {
     "data": {
      "text/html": [
       "<div>\n",
       "<style scoped>\n",
       "    .dataframe tbody tr th:only-of-type {\n",
       "        vertical-align: middle;\n",
       "    }\n",
       "\n",
       "    .dataframe tbody tr th {\n",
       "        vertical-align: top;\n",
       "    }\n",
       "\n",
       "    .dataframe thead th {\n",
       "        text-align: right;\n",
       "    }\n",
       "</style>\n",
       "<table border=\"1\" class=\"dataframe\">\n",
       "  <thead>\n",
       "    <tr style=\"text-align: right;\">\n",
       "      <th></th>\n",
       "      <th>Neighborhood</th>\n",
       "      <th>theft_from_vehicle_counts</th>\n",
       "    </tr>\n",
       "  </thead>\n",
       "  <tbody>\n",
       "    <tr>\n",
       "      <th>0</th>\n",
       "      <td>Central Business District</td>\n",
       "      <td>23777</td>\n",
       "    </tr>\n",
       "    <tr>\n",
       "      <th>1</th>\n",
       "      <td>West End</td>\n",
       "      <td>6680</td>\n",
       "    </tr>\n",
       "    <tr>\n",
       "      <th>2</th>\n",
       "      <td>Mount Pleasant</td>\n",
       "      <td>4121</td>\n",
       "    </tr>\n",
       "    <tr>\n",
       "      <th>3</th>\n",
       "      <td>Strathcona</td>\n",
       "      <td>3439</td>\n",
       "    </tr>\n",
       "    <tr>\n",
       "      <th>4</th>\n",
       "      <td>Fairview</td>\n",
       "      <td>3427</td>\n",
       "    </tr>\n",
       "  </tbody>\n",
       "</table>\n",
       "</div>"
      ],
      "text/plain": [
       "                Neighborhood  theft_from_vehicle_counts\n",
       "0  Central Business District                      23777\n",
       "1                   West End                       6680\n",
       "2             Mount Pleasant                       4121\n",
       "3                 Strathcona                       3439\n",
       "4                   Fairview                       3427"
      ]
     },
     "execution_count": 10,
     "metadata": {},
     "output_type": "execute_result"
    }
   ],
   "source": [
    "import pandas as pd\n",
    "data_set = pd.DataFrame(result_list, columns= ['Neighborhood', 'theft_from_vehicle_counts'])\n",
    "data_set.head()"
   ]
  },
  {
   "cell_type": "code",
   "execution_count": 11,
   "metadata": {},
   "outputs": [],
   "source": [
    "data_set.to_csv('./clustering_dataset.csv', index=False)"
   ]
  },
  {
   "cell_type": "code",
   "execution_count": 14,
   "metadata": {},
   "outputs": [
    {
     "name": "stdout",
     "output_type": "stream",
     "text": [
      "0      Central Business District\n",
      "1                       West End\n",
      "2                 Mount Pleasant\n",
      "3                     Strathcona\n",
      "4                       Fairview\n",
      "                 ...            \n",
      "98                    sun-valley\n",
      "99                       skyland\n",
      "100                    wellshire\n",
      "101                 indian-creek\n",
      "102                     Musqueam\n",
      "Name: Neighborhood, Length: 103, dtype: object\n"
     ]
    }
   ],
   "source": [
    "print(data_set.Neighborhood)"
   ]
  },
  {
   "cell_type": "code",
   "execution_count": null,
   "metadata": {},
   "outputs": [],
   "source": []
  }
 ],
 "metadata": {
  "kernelspec": {
   "display_name": "venv",
   "language": "python",
   "name": "venv"
  },
  "language_info": {
   "codemirror_mode": {
    "name": "ipython",
    "version": 3
   },
   "file_extension": ".py",
   "mimetype": "text/x-python",
   "name": "python",
   "nbconvert_exporter": "python",
   "pygments_lexer": "ipython3",
   "version": "3.6.9"
  }
 },
 "nbformat": 4,
 "nbformat_minor": 4
}
