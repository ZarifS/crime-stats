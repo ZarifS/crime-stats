{
 "cells": [
  {
   "cell_type": "code",
   "execution_count": 1,
   "metadata": {},
   "outputs": [],
   "source": [
    "import pandas as pd\n",
    "import numpy as np\n",
    "\n",
    "from datetime import datetime, timedelta"
   ]
  },
  {
   "cell_type": "code",
   "execution_count": 2,
   "metadata": {},
   "outputs": [],
   "source": [
    "coll_df = pd.read_csv('../Data/2017_Tabular_Transportation_Collision_Data.csv')[:50]"
   ]
  },
  {
   "cell_type": "code",
   "execution_count": 8,
   "metadata": {},
   "outputs": [],
   "source": [
    "accident_fact_df = pd.DataFrame(columns=['Hour_Key','Location_Key','Accident_Key', 'Weather_Key', 'is_fatal', \n",
    "                                         'is_intersection'])\n",
    "\n",
    "hour_df = pd.read_csv('../Data/hour_dimension.csv')\n",
    "location_df = pd.read_csv('../Data/location_dimension.csv')\n",
    "accident_df = pd.read_csv('../Data/accident_dimension.csv')\n",
    "weather_df = pd.read_csv('../Data/weather_dimension.csv')\n",
    "\n",
    "for idx, row in coll_df.iterrows():\n",
    "    \n",
    "    accident_fact_row = [hour_df.iloc[idx]['Hour_Key'],\n",
    "                         location_df.iloc[idx]['Location_Key'],\n",
    "                         accident_df.iloc[idx]['Accident_Key'],\n",
    "                         weather_df.iloc[idx]['Weather_Key']]\n",
    "    \n",
    "    fatal_id = int(row['Collision_Classification'].split(\"-\")[0].strip())\n",
    "    intersection_id = int(row['Collision_Location'].split(\"-\")[0].strip())\n",
    "    \n",
    "    accident_fact_row += [ 1 if fatal_id == 1 else 0 ,\n",
    "                           1 if intersection_id == 3 else 0 ]\n",
    "    \n",
    "    accident_fact_df.loc[len(accident_fact_df)] = accident_fact_row"
   ]
  },
  {
   "cell_type": "code",
   "execution_count": 9,
   "metadata": {},
   "outputs": [
    {
     "data": {
      "text/html": [
       "<div>\n",
       "<style scoped>\n",
       "    .dataframe tbody tr th:only-of-type {\n",
       "        vertical-align: middle;\n",
       "    }\n",
       "\n",
       "    .dataframe tbody tr th {\n",
       "        vertical-align: top;\n",
       "    }\n",
       "\n",
       "    .dataframe thead th {\n",
       "        text-align: right;\n",
       "    }\n",
       "</style>\n",
       "<table border=\"1\" class=\"dataframe\">\n",
       "  <thead>\n",
       "    <tr style=\"text-align: right;\">\n",
       "      <th></th>\n",
       "      <th>Hour_Key</th>\n",
       "      <th>Location_Key</th>\n",
       "      <th>Accident_Key</th>\n",
       "      <th>Weather_Key</th>\n",
       "      <th>is_fatal</th>\n",
       "      <th>is_intersection</th>\n",
       "    </tr>\n",
       "  </thead>\n",
       "  <tbody>\n",
       "    <tr>\n",
       "      <th>0</th>\n",
       "      <td>300</td>\n",
       "      <td>200</td>\n",
       "      <td>100</td>\n",
       "      <td>400</td>\n",
       "      <td>0</td>\n",
       "      <td>0</td>\n",
       "    </tr>\n",
       "    <tr>\n",
       "      <th>1</th>\n",
       "      <td>301</td>\n",
       "      <td>201</td>\n",
       "      <td>101</td>\n",
       "      <td>401</td>\n",
       "      <td>0</td>\n",
       "      <td>0</td>\n",
       "    </tr>\n",
       "    <tr>\n",
       "      <th>2</th>\n",
       "      <td>302</td>\n",
       "      <td>202</td>\n",
       "      <td>102</td>\n",
       "      <td>402</td>\n",
       "      <td>0</td>\n",
       "      <td>0</td>\n",
       "    </tr>\n",
       "    <tr>\n",
       "      <th>3</th>\n",
       "      <td>303</td>\n",
       "      <td>203</td>\n",
       "      <td>103</td>\n",
       "      <td>403</td>\n",
       "      <td>0</td>\n",
       "      <td>0</td>\n",
       "    </tr>\n",
       "    <tr>\n",
       "      <th>4</th>\n",
       "      <td>304</td>\n",
       "      <td>204</td>\n",
       "      <td>104</td>\n",
       "      <td>404</td>\n",
       "      <td>0</td>\n",
       "      <td>0</td>\n",
       "    </tr>\n",
       "  </tbody>\n",
       "</table>\n",
       "</div>"
      ],
      "text/plain": [
       "  Hour_Key Location_Key Accident_Key Weather_Key is_fatal is_intersection\n",
       "0      300          200          100         400        0               0\n",
       "1      301          201          101         401        0               0\n",
       "2      302          202          102         402        0               0\n",
       "3      303          203          103         403        0               0\n",
       "4      304          204          104         404        0               0"
      ]
     },
     "execution_count": 9,
     "metadata": {},
     "output_type": "execute_result"
    }
   ],
   "source": [
    "accident_fact_df.head()"
   ]
  },
  {
   "cell_type": "code",
   "execution_count": 10,
   "metadata": {},
   "outputs": [],
   "source": [
    "accident_fact_df.to_csv('../Data/accident_fact.csv', index=False)"
   ]
  }
 ],
 "metadata": {
  "kernelspec": {
   "display_name": "Python 3",
   "language": "python",
   "name": "python3"
  },
  "language_info": {
   "codemirror_mode": {
    "name": "ipython",
    "version": 3
   },
   "file_extension": ".py",
   "mimetype": "text/x-python",
   "name": "python",
   "nbconvert_exporter": "python",
   "pygments_lexer": "ipython3",
   "version": "3.6.9"
  }
 },
 "nbformat": 4,
 "nbformat_minor": 2
}
