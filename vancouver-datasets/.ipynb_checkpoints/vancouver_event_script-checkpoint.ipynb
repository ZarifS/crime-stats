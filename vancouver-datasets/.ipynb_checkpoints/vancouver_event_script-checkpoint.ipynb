{
 "cells": [
  {
   "cell_type": "code",
   "execution_count": 17,
   "metadata": {},
   "outputs": [
    {
     "data": {
      "text/html": [
       "<div>\n",
       "<style scoped>\n",
       "    .dataframe tbody tr th:only-of-type {\n",
       "        vertical-align: middle;\n",
       "    }\n",
       "\n",
       "    .dataframe tbody tr th {\n",
       "        vertical-align: top;\n",
       "    }\n",
       "\n",
       "    .dataframe thead th {\n",
       "        text-align: right;\n",
       "    }\n",
       "</style>\n",
       "<table border=\"1\" class=\"dataframe\">\n",
       "  <thead>\n",
       "    <tr style=\"text-align: right;\">\n",
       "      <th></th>\n",
       "      <th>event_name</th>\n",
       "      <th>event_year</th>\n",
       "      <th>event_month</th>\n",
       "      <th>event_day</th>\n",
       "      <th>event_hour</th>\n",
       "      <th>event_minute</th>\n",
       "      <th>event_type</th>\n",
       "      <th>event_genre</th>\n",
       "      <th>event_venue_name</th>\n",
       "      <th>event_address</th>\n",
       "      <th>event_postal_code</th>\n",
       "      <th>event_latitude</th>\n",
       "      <th>event_longitude</th>\n",
       "    </tr>\n",
       "  </thead>\n",
       "  <tbody>\n",
       "    <tr>\n",
       "      <th>0</th>\n",
       "      <td>Toronto FC at Vancouver Whitecaps</td>\n",
       "      <td>2015</td>\n",
       "      <td>3</td>\n",
       "      <td>7</td>\n",
       "      <td>15</td>\n",
       "      <td>0</td>\n",
       "      <td>Sports</td>\n",
       "      <td>Soccer</td>\n",
       "      <td>BC Place</td>\n",
       "      <td>777 Pacific Boulevard</td>\n",
       "      <td>V6B 4Y8</td>\n",
       "      <td>49.276667</td>\n",
       "      <td>-123.111944</td>\n",
       "    </tr>\n",
       "    <tr>\n",
       "      <th>1</th>\n",
       "      <td>Portland Timbers at Vancouver Whitecaps</td>\n",
       "      <td>2015</td>\n",
       "      <td>3</td>\n",
       "      <td>28</td>\n",
       "      <td>17</td>\n",
       "      <td>0</td>\n",
       "      <td>Sports</td>\n",
       "      <td>Soccer</td>\n",
       "      <td>BC Place</td>\n",
       "      <td>778 Pacific Boulevard</td>\n",
       "      <td>V6B 4Y9</td>\n",
       "      <td>49.276667</td>\n",
       "      <td>-123.111944</td>\n",
       "    </tr>\n",
       "    <tr>\n",
       "      <th>2</th>\n",
       "      <td>Los Angeles Galaxy at Vancouver Whitecaps</td>\n",
       "      <td>2015</td>\n",
       "      <td>4</td>\n",
       "      <td>4</td>\n",
       "      <td>19</td>\n",
       "      <td>0</td>\n",
       "      <td>Sports</td>\n",
       "      <td>Soccer</td>\n",
       "      <td>BC Place</td>\n",
       "      <td>779 Pacific Boulevard</td>\n",
       "      <td>V6B 4Y10</td>\n",
       "      <td>49.276667</td>\n",
       "      <td>-123.111944</td>\n",
       "    </tr>\n",
       "    <tr>\n",
       "      <th>3</th>\n",
       "      <td>Columbus Crew SC at Vancouver Whitecaps</td>\n",
       "      <td>2015</td>\n",
       "      <td>4</td>\n",
       "      <td>8</td>\n",
       "      <td>19</td>\n",
       "      <td>0</td>\n",
       "      <td>Sports</td>\n",
       "      <td>Soccer</td>\n",
       "      <td>BC Place</td>\n",
       "      <td>780 Pacific Boulevard</td>\n",
       "      <td>V6B 4Y11</td>\n",
       "      <td>49.276667</td>\n",
       "      <td>-123.111944</td>\n",
       "    </tr>\n",
       "    <tr>\n",
       "      <th>4</th>\n",
       "      <td>D.C. United at Vancouver Whitecaps</td>\n",
       "      <td>2015</td>\n",
       "      <td>4</td>\n",
       "      <td>25</td>\n",
       "      <td>19</td>\n",
       "      <td>30</td>\n",
       "      <td>Sports</td>\n",
       "      <td>Soccer</td>\n",
       "      <td>BC Place</td>\n",
       "      <td>781 Pacific Boulevard</td>\n",
       "      <td>V6B 4Y12</td>\n",
       "      <td>49.276667</td>\n",
       "      <td>-123.111944</td>\n",
       "    </tr>\n",
       "  </tbody>\n",
       "</table>\n",
       "</div>"
      ],
      "text/plain": [
       "                                  event_name  event_year  event_month  \\\n",
       "0          Toronto FC at Vancouver Whitecaps        2015            3   \n",
       "1    Portland Timbers at Vancouver Whitecaps        2015            3   \n",
       "2  Los Angeles Galaxy at Vancouver Whitecaps        2015            4   \n",
       "3    Columbus Crew SC at Vancouver Whitecaps        2015            4   \n",
       "4         D.C. United at Vancouver Whitecaps        2015            4   \n",
       "\n",
       "   event_day  event_hour  event_minute event_type event_genre  \\\n",
       "0          7          15             0     Sports      Soccer   \n",
       "1         28          17             0     Sports      Soccer   \n",
       "2          4          19             0     Sports      Soccer   \n",
       "3          8          19             0     Sports      Soccer   \n",
       "4         25          19            30     Sports      Soccer   \n",
       "\n",
       "  event_venue_name          event_address event_postal_code  event_latitude  \\\n",
       "0         BC Place  777 Pacific Boulevard           V6B 4Y8       49.276667   \n",
       "1         BC Place  778 Pacific Boulevard           V6B 4Y9       49.276667   \n",
       "2         BC Place  779 Pacific Boulevard          V6B 4Y10       49.276667   \n",
       "3         BC Place  780 Pacific Boulevard          V6B 4Y11       49.276667   \n",
       "4         BC Place  781 Pacific Boulevard          V6B 4Y12       49.276667   \n",
       "\n",
       "   event_longitude  \n",
       "0      -123.111944  \n",
       "1      -123.111944  \n",
       "2      -123.111944  \n",
       "3      -123.111944  \n",
       "4      -123.111944  "
      ]
     },
     "execution_count": 17,
     "metadata": {},
     "output_type": "execute_result"
    }
   ],
   "source": [
    "import pandas as pd\n",
    "\n",
    "vancover_event_data = pd.read_csv(\"./vancouver-events.csv\") \n",
    "\n",
    "vancover_event_data.head()"
   ]
  },
  {
   "cell_type": "code",
   "execution_count": 18,
   "metadata": {},
   "outputs": [
    {
     "name": "stdout",
     "output_type": "stream",
     "text": [
      "104\n"
     ]
    }
   ],
   "source": [
    "##add event key to the vancouver dataset\n",
    "import uuid\n",
    "location_key = []\n",
    "for i in range(vancover_event_data.shape[0]):\n",
    "    id = uuid.uuid4() \n",
    "    location_key.append(id)\n",
    "print(len(location_key))"
   ]
  },
  {
   "cell_type": "code",
   "execution_count": 19,
   "metadata": {},
   "outputs": [],
   "source": [
    "vancover_event_data['event_key'] = location_key"
   ]
  },
  {
   "cell_type": "code",
   "execution_count": 34,
   "metadata": {},
   "outputs": [
    {
     "name": "stdout",
     "output_type": "stream",
     "text": [
      "['event_key', 'event_name', 'event_year', 'event_month', 'event_day', 'event_hour', 'event_minute', 'event_type', 'event_genre', 'event_venue_name', 'event_address', 'event_postal_code', 'event_latitude', 'event_longitude']\n"
     ]
    }
   ],
   "source": [
    "cols = vancover_event_data.columns.to_list()\n",
    "new_cols = [cols[-1]]+ cols[:-1]\n",
    "print(new_cols)"
   ]
  },
  {
   "cell_type": "code",
   "execution_count": 37,
   "metadata": {},
   "outputs": [],
   "source": [
    "vancover_event_data = vancover_event_data[new_cols]\n",
    "vancover_event_data.head()\n",
    "\n",
    "# Finally here we convert the dataframe to a csv file to store in our repo\n",
    "vancover_event_data.to_csv(r'./vancouver-event.csv', index = None, header=True)"
   ]
  },
  {
   "cell_type": "code",
   "execution_count": null,
   "metadata": {},
   "outputs": [],
   "source": []
  },
  {
   "cell_type": "code",
   "execution_count": null,
   "metadata": {},
   "outputs": [],
   "source": []
  },
  {
   "cell_type": "code",
   "execution_count": null,
   "metadata": {},
   "outputs": [],
   "source": []
  }
 ],
 "metadata": {
  "kernelspec": {
   "display_name": "venv",
   "language": "python",
   "name": "venv"
  },
  "language_info": {
   "codemirror_mode": {
    "name": "ipython",
    "version": 3
   },
   "file_extension": ".py",
   "mimetype": "text/x-python",
   "name": "python",
   "nbconvert_exporter": "python",
   "pygments_lexer": "ipython3",
   "version": "3.6.9"
  }
 },
 "nbformat": 4,
 "nbformat_minor": 4
}
