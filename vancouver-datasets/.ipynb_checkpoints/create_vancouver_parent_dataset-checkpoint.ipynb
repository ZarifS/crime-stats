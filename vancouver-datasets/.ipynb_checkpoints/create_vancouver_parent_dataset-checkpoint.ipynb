{
 "cells": [
  {
   "cell_type": "code",
   "execution_count": 4,
   "metadata": {},
   "outputs": [],
   "source": [
    "import pandas as pd\n",
    "#Import both parent datasets\n",
    "vancouver_data = pd.read_csv(\"../datasets/vancouver-data.csv\")\n",
    "denver_data = pd.read_csv(\"../datasets/denver-data.csv\")"
   ]
  },
  {
   "cell_type": "code",
   "execution_count": 7,
   "metadata": {},
   "outputs": [
    {
     "name": "stdout",
     "output_type": "stream",
     "text": [
      "2003\n",
      "2020\n"
     ]
    }
   ],
   "source": [
    "#find the min and max years of vancouver\n",
    "print(vancouver_data['YEAR'].min())\n",
    "print(vancouver_data['YEAR'].max())"
   ]
  },
  {
   "cell_type": "code",
   "execution_count": 9,
   "metadata": {},
   "outputs": [
    {
     "name": "stdout",
     "output_type": "stream",
     "text": [
      "2015\n",
      "2020\n"
     ]
    }
   ],
   "source": [
    "#Importing the denver dataset since its better preprocesses\n",
    "denver_date_dataset = pd.read_csv(\"../denver-datasets/denver-date.csv\")\n",
    "#find the min and max years of denver\n",
    "print(denver_date_dataset['year'].min())\n",
    "print(denver_date_dataset['year'].max())"
   ]
  },
  {
   "cell_type": "code",
   "execution_count": 14,
   "metadata": {},
   "outputs": [
    {
     "name": "stdout",
     "output_type": "stream",
     "text": [
      "634278\n"
     ]
    },
    {
     "data": {
      "text/html": [
       "<div>\n",
       "<style scoped>\n",
       "    .dataframe tbody tr th:only-of-type {\n",
       "        vertical-align: middle;\n",
       "    }\n",
       "\n",
       "    .dataframe tbody tr th {\n",
       "        vertical-align: top;\n",
       "    }\n",
       "\n",
       "    .dataframe thead th {\n",
       "        text-align: right;\n",
       "    }\n",
       "</style>\n",
       "<table border=\"1\" class=\"dataframe\">\n",
       "  <thead>\n",
       "    <tr style=\"text-align: right;\">\n",
       "      <th></th>\n",
       "      <th>TYPE</th>\n",
       "      <th>YEAR</th>\n",
       "      <th>MONTH</th>\n",
       "      <th>DAY</th>\n",
       "      <th>HOUR</th>\n",
       "      <th>MINUTE</th>\n",
       "      <th>HUNDRED_BLOCK</th>\n",
       "      <th>NEIGHBOURHOOD</th>\n",
       "      <th>X</th>\n",
       "      <th>Y</th>\n",
       "    </tr>\n",
       "  </thead>\n",
       "  <tbody>\n",
       "    <tr>\n",
       "      <th>0</th>\n",
       "      <td>Break and Enter Commercial</td>\n",
       "      <td>2012</td>\n",
       "      <td>12</td>\n",
       "      <td>14</td>\n",
       "      <td>8</td>\n",
       "      <td>52</td>\n",
       "      <td>NaN</td>\n",
       "      <td>Oakridge</td>\n",
       "      <td>491285.000000</td>\n",
       "      <td>5.453433e+06</td>\n",
       "    </tr>\n",
       "    <tr>\n",
       "      <th>1</th>\n",
       "      <td>Break and Enter Commercial</td>\n",
       "      <td>2019</td>\n",
       "      <td>3</td>\n",
       "      <td>7</td>\n",
       "      <td>2</td>\n",
       "      <td>6</td>\n",
       "      <td>10XX SITKA SQ</td>\n",
       "      <td>Fairview</td>\n",
       "      <td>490612.964805</td>\n",
       "      <td>5.457110e+06</td>\n",
       "    </tr>\n",
       "    <tr>\n",
       "      <th>2</th>\n",
       "      <td>Break and Enter Commercial</td>\n",
       "      <td>2019</td>\n",
       "      <td>8</td>\n",
       "      <td>27</td>\n",
       "      <td>4</td>\n",
       "      <td>12</td>\n",
       "      <td>10XX ALBERNI ST</td>\n",
       "      <td>West End</td>\n",
       "      <td>491007.779775</td>\n",
       "      <td>5.459174e+06</td>\n",
       "    </tr>\n",
       "    <tr>\n",
       "      <th>3</th>\n",
       "      <td>Break and Enter Commercial</td>\n",
       "      <td>2014</td>\n",
       "      <td>8</td>\n",
       "      <td>8</td>\n",
       "      <td>5</td>\n",
       "      <td>13</td>\n",
       "      <td>10XX ALBERNI ST</td>\n",
       "      <td>West End</td>\n",
       "      <td>491015.943352</td>\n",
       "      <td>5.459166e+06</td>\n",
       "    </tr>\n",
       "    <tr>\n",
       "      <th>4</th>\n",
       "      <td>Break and Enter Commercial</td>\n",
       "      <td>2005</td>\n",
       "      <td>11</td>\n",
       "      <td>14</td>\n",
       "      <td>3</td>\n",
       "      <td>9</td>\n",
       "      <td>10XX ALBERNI ST</td>\n",
       "      <td>West End</td>\n",
       "      <td>491021.385727</td>\n",
       "      <td>5.459161e+06</td>\n",
       "    </tr>\n",
       "  </tbody>\n",
       "</table>\n",
       "</div>"
      ],
      "text/plain": [
       "                         TYPE  YEAR  MONTH  DAY  HOUR  MINUTE  \\\n",
       "0  Break and Enter Commercial  2012     12   14     8      52   \n",
       "1  Break and Enter Commercial  2019      3    7     2       6   \n",
       "2  Break and Enter Commercial  2019      8   27     4      12   \n",
       "3  Break and Enter Commercial  2014      8    8     5      13   \n",
       "4  Break and Enter Commercial  2005     11   14     3       9   \n",
       "\n",
       "     HUNDRED_BLOCK NEIGHBOURHOOD              X             Y  \n",
       "0              NaN      Oakridge  491285.000000  5.453433e+06  \n",
       "1    10XX SITKA SQ      Fairview  490612.964805  5.457110e+06  \n",
       "2  10XX ALBERNI ST      West End  491007.779775  5.459174e+06  \n",
       "3  10XX ALBERNI ST      West End  491015.943352  5.459166e+06  \n",
       "4  10XX ALBERNI ST      West End  491021.385727  5.459161e+06  "
      ]
     },
     "execution_count": 14,
     "metadata": {},
     "output_type": "execute_result"
    }
   ],
   "source": [
    "print(vancouver_data.shape[0])\n",
    "vancouver_data.head()"
   ]
  },
  {
   "cell_type": "code",
   "execution_count": 18,
   "metadata": {},
   "outputs": [
    {
     "name": "stdout",
     "output_type": "stream",
     "text": [
      "1870\n"
     ]
    }
   ],
   "source": [
    "#drop all rows that are from 2003 to 2014 in the vancouver dataset\n",
    "indexCrime = vancouver_data[ (vancouver_data['YEAR'] >= 2003) & (vancouver_data['YEAR'] <= 2014)].index\n",
    "\n",
    "# Delete these row indexes from dataFrame\n",
    "vancouver_data.drop(indexCrime , inplace=True)\n",
    "print(denver_date_dataset.shape[0])"
   ]
  },
  {
   "cell_type": "code",
   "execution_count": 19,
   "metadata": {},
   "outputs": [
    {
     "data": {
      "text/html": [
       "<div>\n",
       "<style scoped>\n",
       "    .dataframe tbody tr th:only-of-type {\n",
       "        vertical-align: middle;\n",
       "    }\n",
       "\n",
       "    .dataframe tbody tr th {\n",
       "        vertical-align: top;\n",
       "    }\n",
       "\n",
       "    .dataframe thead th {\n",
       "        text-align: right;\n",
       "    }\n",
       "</style>\n",
       "<table border=\"1\" class=\"dataframe\">\n",
       "  <thead>\n",
       "    <tr style=\"text-align: right;\">\n",
       "      <th></th>\n",
       "      <th>TYPE</th>\n",
       "      <th>YEAR</th>\n",
       "      <th>MONTH</th>\n",
       "      <th>DAY</th>\n",
       "      <th>HOUR</th>\n",
       "      <th>MINUTE</th>\n",
       "      <th>HUNDRED_BLOCK</th>\n",
       "      <th>NEIGHBOURHOOD</th>\n",
       "      <th>X</th>\n",
       "      <th>Y</th>\n",
       "    </tr>\n",
       "  </thead>\n",
       "  <tbody>\n",
       "    <tr>\n",
       "      <th>1</th>\n",
       "      <td>Break and Enter Commercial</td>\n",
       "      <td>2019</td>\n",
       "      <td>3</td>\n",
       "      <td>7</td>\n",
       "      <td>2</td>\n",
       "      <td>6</td>\n",
       "      <td>10XX SITKA SQ</td>\n",
       "      <td>Fairview</td>\n",
       "      <td>490612.964805</td>\n",
       "      <td>5.457110e+06</td>\n",
       "    </tr>\n",
       "    <tr>\n",
       "      <th>2</th>\n",
       "      <td>Break and Enter Commercial</td>\n",
       "      <td>2019</td>\n",
       "      <td>8</td>\n",
       "      <td>27</td>\n",
       "      <td>4</td>\n",
       "      <td>12</td>\n",
       "      <td>10XX ALBERNI ST</td>\n",
       "      <td>West End</td>\n",
       "      <td>491007.779775</td>\n",
       "      <td>5.459174e+06</td>\n",
       "    </tr>\n",
       "    <tr>\n",
       "      <th>10</th>\n",
       "      <td>Break and Enter Commercial</td>\n",
       "      <td>2017</td>\n",
       "      <td>11</td>\n",
       "      <td>14</td>\n",
       "      <td>20</td>\n",
       "      <td>0</td>\n",
       "      <td>10XX ALBERNI ST</td>\n",
       "      <td>West End</td>\n",
       "      <td>491051.085574</td>\n",
       "      <td>5.459144e+06</td>\n",
       "    </tr>\n",
       "    <tr>\n",
       "      <th>11</th>\n",
       "      <td>Break and Enter Commercial</td>\n",
       "      <td>2018</td>\n",
       "      <td>3</td>\n",
       "      <td>2</td>\n",
       "      <td>6</td>\n",
       "      <td>17</td>\n",
       "      <td>10XX ALBERNI ST</td>\n",
       "      <td>West End</td>\n",
       "      <td>491058.816893</td>\n",
       "      <td>5.459123e+06</td>\n",
       "    </tr>\n",
       "    <tr>\n",
       "      <th>24</th>\n",
       "      <td>Break and Enter Commercial</td>\n",
       "      <td>2015</td>\n",
       "      <td>2</td>\n",
       "      <td>4</td>\n",
       "      <td>20</td>\n",
       "      <td>53</td>\n",
       "      <td>10XX ALBERNI ST</td>\n",
       "      <td>West End</td>\n",
       "      <td>491067.645985</td>\n",
       "      <td>5.459114e+06</td>\n",
       "    </tr>\n",
       "  </tbody>\n",
       "</table>\n",
       "</div>"
      ],
      "text/plain": [
       "                          TYPE  YEAR  MONTH  DAY  HOUR  MINUTE  \\\n",
       "1   Break and Enter Commercial  2019      3    7     2       6   \n",
       "2   Break and Enter Commercial  2019      8   27     4      12   \n",
       "10  Break and Enter Commercial  2017     11   14    20       0   \n",
       "11  Break and Enter Commercial  2018      3    2     6      17   \n",
       "24  Break and Enter Commercial  2015      2    4    20      53   \n",
       "\n",
       "      HUNDRED_BLOCK NEIGHBOURHOOD              X             Y  \n",
       "1     10XX SITKA SQ      Fairview  490612.964805  5.457110e+06  \n",
       "2   10XX ALBERNI ST      West End  491007.779775  5.459174e+06  \n",
       "10  10XX ALBERNI ST      West End  491051.085574  5.459144e+06  \n",
       "11  10XX ALBERNI ST      West End  491058.816893  5.459123e+06  \n",
       "24  10XX ALBERNI ST      West End  491067.645985  5.459114e+06  "
      ]
     },
     "execution_count": 19,
     "metadata": {},
     "output_type": "execute_result"
    }
   ],
   "source": [
    "vancouver_data.head()"
   ]
  },
  {
   "cell_type": "code",
   "execution_count": null,
   "metadata": {},
   "outputs": [],
   "source": []
  }
 ],
 "metadata": {
  "kernelspec": {
   "display_name": "venv",
   "language": "python",
   "name": "venv"
  },
  "language_info": {
   "codemirror_mode": {
    "name": "ipython",
    "version": 3
   },
   "file_extension": ".py",
   "mimetype": "text/x-python",
   "name": "python",
   "nbconvert_exporter": "python",
   "pygments_lexer": "ipython3",
   "version": "3.6.9"
  }
 },
 "nbformat": 4,
 "nbformat_minor": 4
}
