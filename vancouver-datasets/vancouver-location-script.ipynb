{
 "cells": [
  {
   "cell_type": "code",
   "execution_count": 37,
   "metadata": {},
   "outputs": [
    {
     "name": "stdout",
     "output_type": "stream",
     "text": [
      "193378\n"
     ]
    }
   ],
   "source": [
    "import pandas as pd \n",
    "import math\n",
    "# Read data from file 'filename.csv' \n",
    "# (in the same directory that your python process is based)\n",
    "# Control delimiters, rows, column names with read_csv (see later) \n",
    "vancover_data = pd.read_csv(\"./vancouver-parent_data.csv\") \n",
    "# Preview the first 5 lines of the loaded data \n",
    "vancover_data.head(5)\n",
    "print(vancover_data.shape[0])"
   ]
  },
  {
   "cell_type": "code",
   "execution_count": 38,
   "metadata": {
    "scrolled": true
   },
   "outputs": [
    {
     "data": {
      "text/html": [
       "<div>\n",
       "<style scoped>\n",
       "    .dataframe tbody tr th:only-of-type {\n",
       "        vertical-align: middle;\n",
       "    }\n",
       "\n",
       "    .dataframe tbody tr th {\n",
       "        vertical-align: top;\n",
       "    }\n",
       "\n",
       "    .dataframe thead th {\n",
       "        text-align: right;\n",
       "    }\n",
       "</style>\n",
       "<table border=\"1\" class=\"dataframe\">\n",
       "  <thead>\n",
       "    <tr style=\"text-align: right;\">\n",
       "      <th></th>\n",
       "      <th>HUNDRED_BLOCK</th>\n",
       "      <th>NEIGHBOURHOOD</th>\n",
       "      <th>X</th>\n",
       "      <th>Y</th>\n",
       "    </tr>\n",
       "  </thead>\n",
       "  <tbody>\n",
       "    <tr>\n",
       "      <th>0</th>\n",
       "      <td>10XX SITKA SQ</td>\n",
       "      <td>Fairview</td>\n",
       "      <td>490612.964805</td>\n",
       "      <td>5.457110e+06</td>\n",
       "    </tr>\n",
       "    <tr>\n",
       "      <th>1</th>\n",
       "      <td>10XX ALBERNI ST</td>\n",
       "      <td>West End</td>\n",
       "      <td>491007.779775</td>\n",
       "      <td>5.459174e+06</td>\n",
       "    </tr>\n",
       "    <tr>\n",
       "      <th>2</th>\n",
       "      <td>10XX ALBERNI ST</td>\n",
       "      <td>West End</td>\n",
       "      <td>491051.085574</td>\n",
       "      <td>5.459144e+06</td>\n",
       "    </tr>\n",
       "    <tr>\n",
       "      <th>3</th>\n",
       "      <td>10XX ALBERNI ST</td>\n",
       "      <td>West End</td>\n",
       "      <td>491058.816893</td>\n",
       "      <td>5.459123e+06</td>\n",
       "    </tr>\n",
       "    <tr>\n",
       "      <th>4</th>\n",
       "      <td>10XX ALBERNI ST</td>\n",
       "      <td>West End</td>\n",
       "      <td>491067.645985</td>\n",
       "      <td>5.459114e+06</td>\n",
       "    </tr>\n",
       "  </tbody>\n",
       "</table>\n",
       "</div>"
      ],
      "text/plain": [
       "     HUNDRED_BLOCK NEIGHBOURHOOD              X             Y\n",
       "0    10XX SITKA SQ      Fairview  490612.964805  5.457110e+06\n",
       "1  10XX ALBERNI ST      West End  491007.779775  5.459174e+06\n",
       "2  10XX ALBERNI ST      West End  491051.085574  5.459144e+06\n",
       "3  10XX ALBERNI ST      West End  491058.816893  5.459123e+06\n",
       "4  10XX ALBERNI ST      West End  491067.645985  5.459114e+06"
      ]
     },
     "execution_count": 38,
     "metadata": {},
     "output_type": "execute_result"
    }
   ],
   "source": [
    "# Drop uneeded columns from dataset\n",
    "new_van_data = vancover_data.drop(['TYPE', 'YEAR', 'MONTH', 'DAY', 'HOUR', 'MINUTE'], axis=1)\n",
    "new_van_data.head(5)"
   ]
  },
  {
   "cell_type": "code",
   "execution_count": 39,
   "metadata": {},
   "outputs": [],
   "source": [
    "# This is a function that converts a x,y into long and lat values and then returns it\n",
    "\n",
    "def utmToLatLng(zone, easting, northing, northernHemisphere=True):\n",
    "    if not northernHemisphere:\n",
    "        northing = 10000000 - northing\n",
    "\n",
    "    a = 6378137\n",
    "    e = 0.081819191\n",
    "    e1sq = 0.006739497\n",
    "    k0 = 0.9996\n",
    "\n",
    "    arc = northing / k0\n",
    "    mu = arc / (a * (1 - math.pow(e, 2) / 4.0 - 3 * math.pow(e, 4) / 64.0 - 5 * math.pow(e, 6) / 256.0))\n",
    "\n",
    "    ei = (1 - math.pow((1 - e * e), (1 / 2.0))) / (1 + math.pow((1 - e * e), (1 / 2.0)))\n",
    "\n",
    "    ca = 3 * ei / 2 - 27 * math.pow(ei, 3) / 32.0\n",
    "\n",
    "    cb = 21 * math.pow(ei, 2) / 16 - 55 * math.pow(ei, 4) / 32\n",
    "    cc = 151 * math.pow(ei, 3) / 96\n",
    "    cd = 1097 * math.pow(ei, 4) / 512\n",
    "    phi1 = mu + ca * math.sin(2 * mu) + cb * math.sin(4 * mu) + cc * math.sin(6 * mu) + cd * math.sin(8 * mu)\n",
    "\n",
    "    n0 = a / math.pow((1 - math.pow((e * math.sin(phi1)), 2)), (1 / 2.0))\n",
    "\n",
    "    r0 = a * (1 - e * e) / math.pow((1 - math.pow((e * math.sin(phi1)), 2)), (3 / 2.0))\n",
    "    fact1 = n0 * math.tan(phi1) / r0\n",
    "\n",
    "    _a1 = 500000 - easting\n",
    "    dd0 = _a1 / (n0 * k0)\n",
    "    fact2 = dd0 * dd0 / 2\n",
    "\n",
    "    t0 = math.pow(math.tan(phi1), 2)\n",
    "    Q0 = e1sq * math.pow(math.cos(phi1), 2)\n",
    "    fact3 = (5 + 3 * t0 + 10 * Q0 - 4 * Q0 * Q0 - 9 * e1sq) * math.pow(dd0, 4) / 24\n",
    "\n",
    "    fact4 = (61 + 90 * t0 + 298 * Q0 + 45 * t0 * t0 - 252 * e1sq - 3 * Q0 * Q0) * math.pow(dd0, 6) / 720\n",
    "\n",
    "    lof1 = _a1 / (n0 * k0)\n",
    "    lof2 = (1 + 2 * t0 + Q0) * math.pow(dd0, 3) / 6.0\n",
    "    lof3 = (5 - 2 * Q0 + 28 * t0 - 3 * math.pow(Q0, 2) + 8 * e1sq + 24 * math.pow(t0, 2)) * math.pow(dd0, 5) / 120\n",
    "    _a2 = (lof1 - lof2 + lof3) / math.cos(phi1)\n",
    "    _a3 = _a2 * 180 / math.pi\n",
    "\n",
    "    latitude = 180 * (phi1 - fact1 * (fact2 + fact3 + fact4)) / math.pi\n",
    "\n",
    "    if not northernHemisphere:\n",
    "        latitude = -latitude\n",
    "\n",
    "    longitude = ((zone > 0) and (6 * zone - 183.0) or 3.0) - _a3\n",
    "\n",
    "    return (latitude, longitude)"
   ]
  },
  {
   "cell_type": "code",
   "execution_count": 40,
   "metadata": {},
   "outputs": [
    {
     "name": "stdout",
     "output_type": "stream",
     "text": [
      "193378\n"
     ]
    }
   ],
   "source": [
    "# Number of rows in the dataset\n",
    "print(new_van_data.shape[0])"
   ]
  },
  {
   "cell_type": "code",
   "execution_count": 41,
   "metadata": {},
   "outputs": [
    {
     "name": "stdout",
     "output_type": "stream",
     "text": [
      "193378\n"
     ]
    }
   ],
   "source": [
    "# Here we are sending all our x,y to get a list of corresponding lat and long\n",
    "latitudes = []\n",
    "longitudes = []\n",
    "#longitude is the first result and latitude is the second\n",
    "for i in range(0, len(new_van_data['Y'].values), 1000):\n",
    "    latits = new_van_data['X'].values[i:i+1000]\n",
    "    longits = new_van_data['Y'].values[i:i+1000]\n",
    "    for x, y in zip(latits, longits):\n",
    "        result = utmToLatLng(10, x, y)\n",
    "        latitudes.append(result[0])\n",
    "        longitudes.append(result[1])    \n",
    "print(len(longitudes))"
   ]
  },
  {
   "cell_type": "code",
   "execution_count": 42,
   "metadata": {},
   "outputs": [
    {
     "data": {
      "text/html": [
       "<div>\n",
       "<style scoped>\n",
       "    .dataframe tbody tr th:only-of-type {\n",
       "        vertical-align: middle;\n",
       "    }\n",
       "\n",
       "    .dataframe tbody tr th {\n",
       "        vertical-align: top;\n",
       "    }\n",
       "\n",
       "    .dataframe thead th {\n",
       "        text-align: right;\n",
       "    }\n",
       "</style>\n",
       "<table border=\"1\" class=\"dataframe\">\n",
       "  <thead>\n",
       "    <tr style=\"text-align: right;\">\n",
       "      <th></th>\n",
       "      <th>HUNDRED_BLOCK</th>\n",
       "      <th>NEIGHBOURHOOD</th>\n",
       "      <th>X</th>\n",
       "      <th>Y</th>\n",
       "      <th>longitude</th>\n",
       "      <th>latitude</th>\n",
       "    </tr>\n",
       "  </thead>\n",
       "  <tbody>\n",
       "    <tr>\n",
       "      <th>0</th>\n",
       "      <td>10XX SITKA SQ</td>\n",
       "      <td>Fairview</td>\n",
       "      <td>490612.964805</td>\n",
       "      <td>5.457110e+06</td>\n",
       "      <td>-123.129029</td>\n",
       "      <td>49.266678</td>\n",
       "    </tr>\n",
       "    <tr>\n",
       "      <th>1</th>\n",
       "      <td>10XX ALBERNI ST</td>\n",
       "      <td>West End</td>\n",
       "      <td>491007.779775</td>\n",
       "      <td>5.459174e+06</td>\n",
       "      <td>-123.123649</td>\n",
       "      <td>49.285255</td>\n",
       "    </tr>\n",
       "    <tr>\n",
       "      <th>2</th>\n",
       "      <td>10XX ALBERNI ST</td>\n",
       "      <td>West End</td>\n",
       "      <td>491051.085574</td>\n",
       "      <td>5.459144e+06</td>\n",
       "      <td>-123.123053</td>\n",
       "      <td>49.284981</td>\n",
       "    </tr>\n",
       "    <tr>\n",
       "      <th>3</th>\n",
       "      <td>10XX ALBERNI ST</td>\n",
       "      <td>West End</td>\n",
       "      <td>491058.816893</td>\n",
       "      <td>5.459123e+06</td>\n",
       "      <td>-123.122946</td>\n",
       "      <td>49.284794</td>\n",
       "    </tr>\n",
       "    <tr>\n",
       "      <th>4</th>\n",
       "      <td>10XX ALBERNI ST</td>\n",
       "      <td>West End</td>\n",
       "      <td>491067.645985</td>\n",
       "      <td>5.459114e+06</td>\n",
       "      <td>-123.122824</td>\n",
       "      <td>49.284715</td>\n",
       "    </tr>\n",
       "  </tbody>\n",
       "</table>\n",
       "</div>"
      ],
      "text/plain": [
       "     HUNDRED_BLOCK NEIGHBOURHOOD              X             Y   longitude  \\\n",
       "0    10XX SITKA SQ      Fairview  490612.964805  5.457110e+06 -123.129029   \n",
       "1  10XX ALBERNI ST      West End  491007.779775  5.459174e+06 -123.123649   \n",
       "2  10XX ALBERNI ST      West End  491051.085574  5.459144e+06 -123.123053   \n",
       "3  10XX ALBERNI ST      West End  491058.816893  5.459123e+06 -123.122946   \n",
       "4  10XX ALBERNI ST      West End  491067.645985  5.459114e+06 -123.122824   \n",
       "\n",
       "    latitude  \n",
       "0  49.266678  \n",
       "1  49.285255  \n",
       "2  49.284981  \n",
       "3  49.284794  \n",
       "4  49.284715  "
      ]
     },
     "execution_count": 42,
     "metadata": {},
     "output_type": "execute_result"
    }
   ],
   "source": [
    "# We set our long and lat values in our dataset\n",
    "new_van_data['longitude'] = longitudes\n",
    "new_van_data['latitude'] = latitudes\n",
    "new_van_data.head(5)"
   ]
  },
  {
   "cell_type": "code",
   "execution_count": 43,
   "metadata": {},
   "outputs": [
    {
     "name": "stdout",
     "output_type": "stream",
     "text": [
      "['HUNDRED_BLOCK', 'NEIGHBOURHOOD', 'X', 'Y', 'longitude', 'latitude']\n"
     ]
    }
   ],
   "source": [
    "cols = new_van_data.columns.tolist()\n",
    "print(cols)"
   ]
  },
  {
   "cell_type": "code",
   "execution_count": 44,
   "metadata": {},
   "outputs": [
    {
     "data": {
      "text/html": [
       "<div>\n",
       "<style scoped>\n",
       "    .dataframe tbody tr th:only-of-type {\n",
       "        vertical-align: middle;\n",
       "    }\n",
       "\n",
       "    .dataframe tbody tr th {\n",
       "        vertical-align: top;\n",
       "    }\n",
       "\n",
       "    .dataframe thead th {\n",
       "        text-align: right;\n",
       "    }\n",
       "</style>\n",
       "<table border=\"1\" class=\"dataframe\">\n",
       "  <thead>\n",
       "    <tr style=\"text-align: right;\">\n",
       "      <th></th>\n",
       "      <th>HUNDRED_BLOCK</th>\n",
       "      <th>NEIGHBOURHOOD</th>\n",
       "      <th>longitude</th>\n",
       "      <th>latitude</th>\n",
       "    </tr>\n",
       "  </thead>\n",
       "  <tbody>\n",
       "    <tr>\n",
       "      <th>0</th>\n",
       "      <td>10XX SITKA SQ</td>\n",
       "      <td>Fairview</td>\n",
       "      <td>-123.129029</td>\n",
       "      <td>49.266678</td>\n",
       "    </tr>\n",
       "    <tr>\n",
       "      <th>1</th>\n",
       "      <td>10XX ALBERNI ST</td>\n",
       "      <td>West End</td>\n",
       "      <td>-123.123649</td>\n",
       "      <td>49.285255</td>\n",
       "    </tr>\n",
       "    <tr>\n",
       "      <th>2</th>\n",
       "      <td>10XX ALBERNI ST</td>\n",
       "      <td>West End</td>\n",
       "      <td>-123.123053</td>\n",
       "      <td>49.284981</td>\n",
       "    </tr>\n",
       "    <tr>\n",
       "      <th>3</th>\n",
       "      <td>10XX ALBERNI ST</td>\n",
       "      <td>West End</td>\n",
       "      <td>-123.122946</td>\n",
       "      <td>49.284794</td>\n",
       "    </tr>\n",
       "    <tr>\n",
       "      <th>4</th>\n",
       "      <td>10XX ALBERNI ST</td>\n",
       "      <td>West End</td>\n",
       "      <td>-123.122824</td>\n",
       "      <td>49.284715</td>\n",
       "    </tr>\n",
       "  </tbody>\n",
       "</table>\n",
       "</div>"
      ],
      "text/plain": [
       "     HUNDRED_BLOCK NEIGHBOURHOOD   longitude   latitude\n",
       "0    10XX SITKA SQ      Fairview -123.129029  49.266678\n",
       "1  10XX ALBERNI ST      West End -123.123649  49.285255\n",
       "2  10XX ALBERNI ST      West End -123.123053  49.284981\n",
       "3  10XX ALBERNI ST      West End -123.122946  49.284794\n",
       "4  10XX ALBERNI ST      West End -123.122824  49.284715"
      ]
     },
     "execution_count": 44,
     "metadata": {},
     "output_type": "execute_result"
    }
   ],
   "source": [
    "# We get rid of X,Y columns\n",
    "new_cols = [cols[0], cols[1], cols[4], cols[5]]\n",
    "new_data = new_van_data[new_cols]\n",
    "new_data.head(5)"
   ]
  },
  {
   "cell_type": "code",
   "execution_count": 45,
   "metadata": {},
   "outputs": [
    {
     "data": {
      "text/html": [
       "<div>\n",
       "<style scoped>\n",
       "    .dataframe tbody tr th:only-of-type {\n",
       "        vertical-align: middle;\n",
       "    }\n",
       "\n",
       "    .dataframe tbody tr th {\n",
       "        vertical-align: top;\n",
       "    }\n",
       "\n",
       "    .dataframe thead th {\n",
       "        text-align: right;\n",
       "    }\n",
       "</style>\n",
       "<table border=\"1\" class=\"dataframe\">\n",
       "  <thead>\n",
       "    <tr style=\"text-align: right;\">\n",
       "      <th></th>\n",
       "      <th>location_name</th>\n",
       "      <th>neighborhood</th>\n",
       "      <th>longitude</th>\n",
       "      <th>latitude</th>\n",
       "    </tr>\n",
       "  </thead>\n",
       "  <tbody>\n",
       "    <tr>\n",
       "      <th>0</th>\n",
       "      <td>10XX SITKA SQ</td>\n",
       "      <td>Fairview</td>\n",
       "      <td>-123.129029</td>\n",
       "      <td>49.266678</td>\n",
       "    </tr>\n",
       "    <tr>\n",
       "      <th>1</th>\n",
       "      <td>10XX ALBERNI ST</td>\n",
       "      <td>West End</td>\n",
       "      <td>-123.123649</td>\n",
       "      <td>49.285255</td>\n",
       "    </tr>\n",
       "    <tr>\n",
       "      <th>2</th>\n",
       "      <td>10XX ALBERNI ST</td>\n",
       "      <td>West End</td>\n",
       "      <td>-123.123053</td>\n",
       "      <td>49.284981</td>\n",
       "    </tr>\n",
       "    <tr>\n",
       "      <th>3</th>\n",
       "      <td>10XX ALBERNI ST</td>\n",
       "      <td>West End</td>\n",
       "      <td>-123.122946</td>\n",
       "      <td>49.284794</td>\n",
       "    </tr>\n",
       "    <tr>\n",
       "      <th>4</th>\n",
       "      <td>10XX ALBERNI ST</td>\n",
       "      <td>West End</td>\n",
       "      <td>-123.122824</td>\n",
       "      <td>49.284715</td>\n",
       "    </tr>\n",
       "  </tbody>\n",
       "</table>\n",
       "</div>"
      ],
      "text/plain": [
       "     location_name neighborhood   longitude   latitude\n",
       "0    10XX SITKA SQ     Fairview -123.129029  49.266678\n",
       "1  10XX ALBERNI ST     West End -123.123649  49.285255\n",
       "2  10XX ALBERNI ST     West End -123.123053  49.284981\n",
       "3  10XX ALBERNI ST     West End -123.122946  49.284794\n",
       "4  10XX ALBERNI ST     West End -123.122824  49.284715"
      ]
     },
     "execution_count": 45,
     "metadata": {},
     "output_type": "execute_result"
    }
   ],
   "source": [
    "# Renaming the columns here\n",
    "data = new_data.rename(columns={\"HUNDRED_BLOCK\": \"location_name\", \"NEIGHBOURHOOD\": \"neighborhood\"}, errors=\"raise\")\n",
    "data.head(5)"
   ]
  },
  {
   "cell_type": "code",
   "execution_count": 46,
   "metadata": {},
   "outputs": [
    {
     "name": "stdout",
     "output_type": "stream",
     "text": [
      "Total number of rows, including duplicates: 193378\n"
     ]
    }
   ],
   "source": [
    "print('Total number of rows, including duplicates:', data.shape[0])"
   ]
  },
  {
   "cell_type": "code",
   "execution_count": 47,
   "metadata": {},
   "outputs": [
    {
     "name": "stdout",
     "output_type": "stream",
     "text": [
      "Total number of rows, without duplicates: 16170\n"
     ]
    }
   ],
   "source": [
    "# Dropping our duplicate location_name rows here\n",
    "data.drop_duplicates(subset=['location_name'], inplace = True)\n",
    "\n",
    "#WE NO LONGER WANT TO DROP DUPLICATES\n",
    "print('Total number of rows, without duplicates:',data.shape[0])"
   ]
  },
  {
   "cell_type": "code",
   "execution_count": 48,
   "metadata": {},
   "outputs": [
    {
     "data": {
      "text/html": [
       "<div>\n",
       "<style scoped>\n",
       "    .dataframe tbody tr th:only-of-type {\n",
       "        vertical-align: middle;\n",
       "    }\n",
       "\n",
       "    .dataframe tbody tr th {\n",
       "        vertical-align: top;\n",
       "    }\n",
       "\n",
       "    .dataframe thead th {\n",
       "        text-align: right;\n",
       "    }\n",
       "</style>\n",
       "<table border=\"1\" class=\"dataframe\">\n",
       "  <thead>\n",
       "    <tr style=\"text-align: right;\">\n",
       "      <th></th>\n",
       "      <th>location_name</th>\n",
       "      <th>neighborhood</th>\n",
       "      <th>longitude</th>\n",
       "      <th>latitude</th>\n",
       "    </tr>\n",
       "  </thead>\n",
       "  <tbody>\n",
       "    <tr>\n",
       "      <th>0</th>\n",
       "      <td>10XX SITKA SQ</td>\n",
       "      <td>Fairview</td>\n",
       "      <td>-123.129029</td>\n",
       "      <td>49.266678</td>\n",
       "    </tr>\n",
       "    <tr>\n",
       "      <th>1</th>\n",
       "      <td>10XX ALBERNI ST</td>\n",
       "      <td>West End</td>\n",
       "      <td>-123.123649</td>\n",
       "      <td>49.285255</td>\n",
       "    </tr>\n",
       "    <tr>\n",
       "      <th>10</th>\n",
       "      <td>10XX BARCLAY ST</td>\n",
       "      <td>West End</td>\n",
       "      <td>-123.126206</td>\n",
       "      <td>49.282661</td>\n",
       "    </tr>\n",
       "    <tr>\n",
       "      <th>18</th>\n",
       "      <td>10XX BEACH AVE</td>\n",
       "      <td>West End</td>\n",
       "      <td>-123.134768</td>\n",
       "      <td>49.276833</td>\n",
       "    </tr>\n",
       "    <tr>\n",
       "      <th>50</th>\n",
       "      <td>10XX BOUNDARY RD</td>\n",
       "      <td>Hastings-Sunrise</td>\n",
       "      <td>-123.023707</td>\n",
       "      <td>49.275879</td>\n",
       "    </tr>\n",
       "  </tbody>\n",
       "</table>\n",
       "</div>"
      ],
      "text/plain": [
       "       location_name      neighborhood   longitude   latitude\n",
       "0      10XX SITKA SQ          Fairview -123.129029  49.266678\n",
       "1    10XX ALBERNI ST          West End -123.123649  49.285255\n",
       "10   10XX BARCLAY ST          West End -123.126206  49.282661\n",
       "18    10XX BEACH AVE          West End -123.134768  49.276833\n",
       "50  10XX BOUNDARY RD  Hastings-Sunrise -123.023707  49.275879"
      ]
     },
     "execution_count": 48,
     "metadata": {},
     "output_type": "execute_result"
    }
   ],
   "source": [
    "data.head(5)"
   ]
  },
  {
   "cell_type": "code",
   "execution_count": 49,
   "metadata": {},
   "outputs": [
    {
     "data": {
      "text/html": [
       "<div>\n",
       "<style scoped>\n",
       "    .dataframe tbody tr th:only-of-type {\n",
       "        vertical-align: middle;\n",
       "    }\n",
       "\n",
       "    .dataframe tbody tr th {\n",
       "        vertical-align: top;\n",
       "    }\n",
       "\n",
       "    .dataframe thead th {\n",
       "        text-align: right;\n",
       "    }\n",
       "</style>\n",
       "<table border=\"1\" class=\"dataframe\">\n",
       "  <thead>\n",
       "    <tr style=\"text-align: right;\">\n",
       "      <th></th>\n",
       "      <th>location_name</th>\n",
       "      <th>neighborhood</th>\n",
       "      <th>longitude</th>\n",
       "      <th>latitude</th>\n",
       "      <th>city</th>\n",
       "    </tr>\n",
       "  </thead>\n",
       "  <tbody>\n",
       "    <tr>\n",
       "      <th>0</th>\n",
       "      <td>10XX SITKA SQ</td>\n",
       "      <td>Fairview</td>\n",
       "      <td>-123.129029</td>\n",
       "      <td>49.266678</td>\n",
       "      <td>Vancouver</td>\n",
       "    </tr>\n",
       "    <tr>\n",
       "      <th>1</th>\n",
       "      <td>10XX ALBERNI ST</td>\n",
       "      <td>West End</td>\n",
       "      <td>-123.123649</td>\n",
       "      <td>49.285255</td>\n",
       "      <td>Vancouver</td>\n",
       "    </tr>\n",
       "    <tr>\n",
       "      <th>10</th>\n",
       "      <td>10XX BARCLAY ST</td>\n",
       "      <td>West End</td>\n",
       "      <td>-123.126206</td>\n",
       "      <td>49.282661</td>\n",
       "      <td>Vancouver</td>\n",
       "    </tr>\n",
       "    <tr>\n",
       "      <th>18</th>\n",
       "      <td>10XX BEACH AVE</td>\n",
       "      <td>West End</td>\n",
       "      <td>-123.134768</td>\n",
       "      <td>49.276833</td>\n",
       "      <td>Vancouver</td>\n",
       "    </tr>\n",
       "    <tr>\n",
       "      <th>50</th>\n",
       "      <td>10XX BOUNDARY RD</td>\n",
       "      <td>Hastings-Sunrise</td>\n",
       "      <td>-123.023707</td>\n",
       "      <td>49.275879</td>\n",
       "      <td>Vancouver</td>\n",
       "    </tr>\n",
       "  </tbody>\n",
       "</table>\n",
       "</div>"
      ],
      "text/plain": [
       "       location_name      neighborhood   longitude   latitude       city\n",
       "0      10XX SITKA SQ          Fairview -123.129029  49.266678  Vancouver\n",
       "1    10XX ALBERNI ST          West End -123.123649  49.285255  Vancouver\n",
       "10   10XX BARCLAY ST          West End -123.126206  49.282661  Vancouver\n",
       "18    10XX BEACH AVE          West End -123.134768  49.276833  Vancouver\n",
       "50  10XX BOUNDARY RD  Hastings-Sunrise -123.023707  49.275879  Vancouver"
      ]
     },
     "execution_count": 49,
     "metadata": {},
     "output_type": "execute_result"
    }
   ],
   "source": [
    "# Here we are adding vancouver to city for the entire dataset\n",
    "data['city'] = ['Vancouver' for i in range(data.shape[0])]\n",
    "data.head(5)"
   ]
  },
  {
   "cell_type": "code",
   "execution_count": 50,
   "metadata": {},
   "outputs": [
    {
     "name": "stdout",
     "output_type": "stream",
     "text": [
      "16170\n"
     ]
    }
   ],
   "source": [
    "# Create a unique id per row in the database for location_key\n",
    "import uuid\n",
    "location_key = []\n",
    "for i in range(data.shape[0]):\n",
    "    id = uuid.uuid4() \n",
    "    location_key.append(id)\n",
    "print(len(location_key))"
   ]
  },
  {
   "cell_type": "code",
   "execution_count": 51,
   "metadata": {},
   "outputs": [
    {
     "data": {
      "text/html": [
       "<div>\n",
       "<style scoped>\n",
       "    .dataframe tbody tr th:only-of-type {\n",
       "        vertical-align: middle;\n",
       "    }\n",
       "\n",
       "    .dataframe tbody tr th {\n",
       "        vertical-align: top;\n",
       "    }\n",
       "\n",
       "    .dataframe thead th {\n",
       "        text-align: right;\n",
       "    }\n",
       "</style>\n",
       "<table border=\"1\" class=\"dataframe\">\n",
       "  <thead>\n",
       "    <tr style=\"text-align: right;\">\n",
       "      <th></th>\n",
       "      <th>location_name</th>\n",
       "      <th>neighborhood</th>\n",
       "      <th>longitude</th>\n",
       "      <th>latitude</th>\n",
       "      <th>city</th>\n",
       "      <th>location_key</th>\n",
       "    </tr>\n",
       "  </thead>\n",
       "  <tbody>\n",
       "    <tr>\n",
       "      <th>0</th>\n",
       "      <td>10XX SITKA SQ</td>\n",
       "      <td>Fairview</td>\n",
       "      <td>-123.129029</td>\n",
       "      <td>49.266678</td>\n",
       "      <td>Vancouver</td>\n",
       "      <td>2796697f-010a-4467-a472-41bd6d18f995</td>\n",
       "    </tr>\n",
       "    <tr>\n",
       "      <th>1</th>\n",
       "      <td>10XX ALBERNI ST</td>\n",
       "      <td>West End</td>\n",
       "      <td>-123.123649</td>\n",
       "      <td>49.285255</td>\n",
       "      <td>Vancouver</td>\n",
       "      <td>dacda9c3-03f7-41fb-836c-e82fbc7aee0b</td>\n",
       "    </tr>\n",
       "    <tr>\n",
       "      <th>10</th>\n",
       "      <td>10XX BARCLAY ST</td>\n",
       "      <td>West End</td>\n",
       "      <td>-123.126206</td>\n",
       "      <td>49.282661</td>\n",
       "      <td>Vancouver</td>\n",
       "      <td>330c1261-474e-4aa3-9d1c-e0c2f0271738</td>\n",
       "    </tr>\n",
       "    <tr>\n",
       "      <th>18</th>\n",
       "      <td>10XX BEACH AVE</td>\n",
       "      <td>West End</td>\n",
       "      <td>-123.134768</td>\n",
       "      <td>49.276833</td>\n",
       "      <td>Vancouver</td>\n",
       "      <td>34c1355d-3fbf-492e-a8ac-863fff855b96</td>\n",
       "    </tr>\n",
       "    <tr>\n",
       "      <th>50</th>\n",
       "      <td>10XX BOUNDARY RD</td>\n",
       "      <td>Hastings-Sunrise</td>\n",
       "      <td>-123.023707</td>\n",
       "      <td>49.275879</td>\n",
       "      <td>Vancouver</td>\n",
       "      <td>f1ff9332-be7c-4676-9bb9-bbc900b990fe</td>\n",
       "    </tr>\n",
       "  </tbody>\n",
       "</table>\n",
       "</div>"
      ],
      "text/plain": [
       "       location_name      neighborhood   longitude   latitude       city  \\\n",
       "0      10XX SITKA SQ          Fairview -123.129029  49.266678  Vancouver   \n",
       "1    10XX ALBERNI ST          West End -123.123649  49.285255  Vancouver   \n",
       "10   10XX BARCLAY ST          West End -123.126206  49.282661  Vancouver   \n",
       "18    10XX BEACH AVE          West End -123.134768  49.276833  Vancouver   \n",
       "50  10XX BOUNDARY RD  Hastings-Sunrise -123.023707  49.275879  Vancouver   \n",
       "\n",
       "                            location_key  \n",
       "0   2796697f-010a-4467-a472-41bd6d18f995  \n",
       "1   dacda9c3-03f7-41fb-836c-e82fbc7aee0b  \n",
       "10  330c1261-474e-4aa3-9d1c-e0c2f0271738  \n",
       "18  34c1355d-3fbf-492e-a8ac-863fff855b96  \n",
       "50  f1ff9332-be7c-4676-9bb9-bbc900b990fe  "
      ]
     },
     "execution_count": 51,
     "metadata": {},
     "output_type": "execute_result"
    }
   ],
   "source": [
    "# Add location_key into dataframe\n",
    "data['location_key'] = location_key\n",
    "data.head(5)"
   ]
  },
  {
   "cell_type": "code",
   "execution_count": 52,
   "metadata": {
    "scrolled": true
   },
   "outputs": [
    {
     "name": "stdout",
     "output_type": "stream",
     "text": [
      "['location_name', 'neighborhood', 'longitude', 'latitude', 'city', 'location_key']\n"
     ]
    }
   ],
   "source": [
    "cols = data.columns.tolist()\n",
    "print(cols)"
   ]
  },
  {
   "cell_type": "code",
   "execution_count": 53,
   "metadata": {},
   "outputs": [
    {
     "name": "stdout",
     "output_type": "stream",
     "text": [
      "Total number of rows, with duplicates: 16170\n"
     ]
    }
   ],
   "source": [
    "# Here we shift the order of the columns so it goes id, name, neighborhood, city, long, lat - to match sql table.\n",
    "new_cols = [cols[5], cols[0], cols[1], cols[4], cols[2], cols[3]]\n",
    "data = data[new_cols]\n",
    "data.head(5)\n",
    "print('Total number of rows, with duplicates:',data.shape[0])"
   ]
  },
  {
   "cell_type": "code",
   "execution_count": 54,
   "metadata": {},
   "outputs": [],
   "source": [
    "# Finally here we convert the dataframe to a csv file to store in our repo\n",
    "vancouver_address_csv = data.to_csv(r'./vancouver-address.csv', index = None, header=True)"
   ]
  },
  {
   "cell_type": "code",
   "execution_count": null,
   "metadata": {},
   "outputs": [],
   "source": []
  }
 ],
 "metadata": {
  "kernelspec": {
   "display_name": "venv",
   "language": "python",
   "name": "venv"
  },
  "language_info": {
   "codemirror_mode": {
    "name": "ipython",
    "version": 3
   },
   "file_extension": ".py",
   "mimetype": "text/x-python",
   "name": "python",
   "nbconvert_exporter": "python",
   "pygments_lexer": "ipython3",
   "version": "3.6.9"
  }
 },
 "nbformat": 4,
 "nbformat_minor": 2
}
