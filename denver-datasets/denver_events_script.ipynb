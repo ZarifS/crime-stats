{
 "cells": [
  {
   "cell_type": "code",
   "execution_count": 1,
   "metadata": {},
   "outputs": [
    {
     "data": {
      "text/html": [
       "<div>\n",
       "<style scoped>\n",
       "    .dataframe tbody tr th:only-of-type {\n",
       "        vertical-align: middle;\n",
       "    }\n",
       "\n",
       "    .dataframe tbody tr th {\n",
       "        vertical-align: top;\n",
       "    }\n",
       "\n",
       "    .dataframe thead th {\n",
       "        text-align: right;\n",
       "    }\n",
       "</style>\n",
       "<table border=\"1\" class=\"dataframe\">\n",
       "  <thead>\n",
       "    <tr style=\"text-align: right;\">\n",
       "      <th></th>\n",
       "      <th>event_name</th>\n",
       "      <th>event_year</th>\n",
       "      <th>event_month</th>\n",
       "      <th>event_day</th>\n",
       "      <th>event_hour</th>\n",
       "      <th>event_minute</th>\n",
       "      <th>event_type</th>\n",
       "      <th>event_genre</th>\n",
       "      <th>event_venue_name</th>\n",
       "      <th>event_address</th>\n",
       "      <th>event_postal_code</th>\n",
       "      <th>event_latitude</th>\n",
       "      <th>event_longitude</th>\n",
       "    </tr>\n",
       "  </thead>\n",
       "  <tbody>\n",
       "    <tr>\n",
       "      <th>0</th>\n",
       "      <td>Baltimore Ravens at Denver Broncos</td>\n",
       "      <td>2015</td>\n",
       "      <td>9</td>\n",
       "      <td>13</td>\n",
       "      <td>14</td>\n",
       "      <td>25</td>\n",
       "      <td>Sports</td>\n",
       "      <td>Football</td>\n",
       "      <td>Empower Field at Mile High</td>\n",
       "      <td>1701 Bryant Street</td>\n",
       "      <td>80204</td>\n",
       "      <td>39.743889</td>\n",
       "      <td>-105.02</td>\n",
       "    </tr>\n",
       "    <tr>\n",
       "      <th>1</th>\n",
       "      <td>Minnesota Vikings at Denver Broncos</td>\n",
       "      <td>2015</td>\n",
       "      <td>10</td>\n",
       "      <td>4</td>\n",
       "      <td>14</td>\n",
       "      <td>25</td>\n",
       "      <td>Sports</td>\n",
       "      <td>Football</td>\n",
       "      <td>Empower Field at Mile High</td>\n",
       "      <td>1702 Bryant Street</td>\n",
       "      <td>80204</td>\n",
       "      <td>39.743889</td>\n",
       "      <td>-105.02</td>\n",
       "    </tr>\n",
       "    <tr>\n",
       "      <th>2</th>\n",
       "      <td>Green Bay Packers at Denver Broncos</td>\n",
       "      <td>2015</td>\n",
       "      <td>11</td>\n",
       "      <td>1</td>\n",
       "      <td>18</td>\n",
       "      <td>30</td>\n",
       "      <td>Sports</td>\n",
       "      <td>Football</td>\n",
       "      <td>Empower Field at Mile High</td>\n",
       "      <td>1703 Bryant Street</td>\n",
       "      <td>80204</td>\n",
       "      <td>39.743889</td>\n",
       "      <td>-105.02</td>\n",
       "    </tr>\n",
       "    <tr>\n",
       "      <th>3</th>\n",
       "      <td>Kansas City Chiefs at Denver Broncos</td>\n",
       "      <td>2015</td>\n",
       "      <td>11</td>\n",
       "      <td>15</td>\n",
       "      <td>14</td>\n",
       "      <td>25</td>\n",
       "      <td>Sports</td>\n",
       "      <td>Football</td>\n",
       "      <td>Empower Field at Mile High</td>\n",
       "      <td>1704 Bryant Street</td>\n",
       "      <td>80204</td>\n",
       "      <td>39.743889</td>\n",
       "      <td>-105.02</td>\n",
       "    </tr>\n",
       "    <tr>\n",
       "      <th>4</th>\n",
       "      <td>New England Patriots at Denver Broncos</td>\n",
       "      <td>2015</td>\n",
       "      <td>11</td>\n",
       "      <td>29</td>\n",
       "      <td>18</td>\n",
       "      <td>30</td>\n",
       "      <td>Sports</td>\n",
       "      <td>Football</td>\n",
       "      <td>Empower Field at Mile High</td>\n",
       "      <td>1705 Bryant Street</td>\n",
       "      <td>80204</td>\n",
       "      <td>39.743889</td>\n",
       "      <td>-105.02</td>\n",
       "    </tr>\n",
       "  </tbody>\n",
       "</table>\n",
       "</div>"
      ],
      "text/plain": [
       "                               event_name  event_year  event_month  event_day  \\\n",
       "0      Baltimore Ravens at Denver Broncos        2015            9         13   \n",
       "1     Minnesota Vikings at Denver Broncos        2015           10          4   \n",
       "2     Green Bay Packers at Denver Broncos        2015           11          1   \n",
       "3    Kansas City Chiefs at Denver Broncos        2015           11         15   \n",
       "4  New England Patriots at Denver Broncos        2015           11         29   \n",
       "\n",
       "   event_hour  event_minute event_type event_genre  \\\n",
       "0          14            25     Sports    Football   \n",
       "1          14            25     Sports    Football   \n",
       "2          18            30     Sports    Football   \n",
       "3          14            25     Sports    Football   \n",
       "4          18            30     Sports    Football   \n",
       "\n",
       "             event_venue_name       event_address  event_postal_code  \\\n",
       "0  Empower Field at Mile High  1701 Bryant Street              80204   \n",
       "1  Empower Field at Mile High  1702 Bryant Street              80204   \n",
       "2  Empower Field at Mile High  1703 Bryant Street              80204   \n",
       "3  Empower Field at Mile High  1704 Bryant Street              80204   \n",
       "4  Empower Field at Mile High  1705 Bryant Street              80204   \n",
       "\n",
       "   event_latitude  event_longitude  \n",
       "0       39.743889          -105.02  \n",
       "1       39.743889          -105.02  \n",
       "2       39.743889          -105.02  \n",
       "3       39.743889          -105.02  \n",
       "4       39.743889          -105.02  "
      ]
     },
     "execution_count": 1,
     "metadata": {},
     "output_type": "execute_result"
    }
   ],
   "source": [
    "import pandas as pd\n",
    "denver_event_data = pd.read_csv(\"../denver-datasets/denver-events.csv\") \n",
    "\n",
    "denver_event_data.head()"
   ]
  },
  {
   "cell_type": "code",
   "execution_count": 2,
   "metadata": {},
   "outputs": [
    {
     "name": "stdout",
     "output_type": "stream",
     "text": [
      "257\n"
     ]
    }
   ],
   "source": [
    "##add event key to the vancouver dataset\n",
    "import uuid\n",
    "location_key = []\n",
    "for i in range(denver_event_data.shape[0]):\n",
    "    id = uuid.uuid4() \n",
    "    location_key.append(id)\n",
    "print(len(location_key))"
   ]
  },
  {
   "cell_type": "code",
   "execution_count": 3,
   "metadata": {},
   "outputs": [],
   "source": [
    "denver_event_data['event_key'] = location_key"
   ]
  },
  {
   "cell_type": "code",
   "execution_count": 4,
   "metadata": {},
   "outputs": [
    {
     "name": "stdout",
     "output_type": "stream",
     "text": [
      "['event_key', 'event_name', 'event_year', 'event_month', 'event_day', 'event_hour', 'event_minute', 'event_type', 'event_genre', 'event_venue_name', 'event_address', 'event_postal_code', 'event_latitude', 'event_longitude']\n"
     ]
    }
   ],
   "source": [
    "cols = denver_event_data.columns.to_list()\n",
    "new_cols = [cols[-1]]+ cols[:-1]\n",
    "print(new_cols)"
   ]
  },
  {
   "cell_type": "code",
   "execution_count": 5,
   "metadata": {},
   "outputs": [],
   "source": [
    "denver_event_data = denver_event_data[new_cols]\n",
    "\n",
    "denver_event_data.to_csv(r'./denver-events.csv', index = None, header=True)"
   ]
  },
  {
   "cell_type": "code",
   "execution_count": null,
   "metadata": {},
   "outputs": [],
   "source": []
  }
 ],
 "metadata": {
  "kernelspec": {
   "display_name": "venv",
   "language": "python",
   "name": "venv"
  },
  "language_info": {
   "codemirror_mode": {
    "name": "ipython",
    "version": 3
   },
   "file_extension": ".py",
   "mimetype": "text/x-python",
   "name": "python",
   "nbconvert_exporter": "python",
   "pygments_lexer": "ipython3",
   "version": "3.6.9"
  }
 },
 "nbformat": 4,
 "nbformat_minor": 4
}
