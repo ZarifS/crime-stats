{
 "cells": [
  {
   "cell_type": "code",
   "execution_count": 1,
   "metadata": {},
   "outputs": [],
   "source": [
    "import pandas as pd\n",
    "denver_parent_data = pd.read_csv(\"../datasets/denver-data.csv\") "
   ]
  },
  {
   "cell_type": "code",
   "execution_count": 3,
   "metadata": {},
   "outputs": [
    {
     "name": "stdout",
     "output_type": "stream",
     "text": [
      "466840\n"
     ]
    }
   ],
   "source": [
    "print(denver_parent_data.shape[0])"
   ]
  },
  {
   "cell_type": "code",
   "execution_count": 4,
   "metadata": {},
   "outputs": [
    {
     "name": "stdout",
     "output_type": "stream",
     "text": [
      "92432\n",
      "466840\n",
      "1870\n"
     ]
    }
   ],
   "source": [
    "denver_address = pd.read_csv(\"./denver-address.csv\")\n",
    "print(denver_address.shape[0])\n",
    "denver_crime = pd.read_csv(\"./denver-crime.csv\")\n",
    "print(denver_crime.shape[0])\n",
    "denver_date = pd.read_csv(\"./denver-date.csv\")\n",
    "print(denver_date.shape[0])"
   ]
  },
  {
   "cell_type": "code",
   "execution_count": null,
   "metadata": {},
   "outputs": [],
   "source": []
  }
 ],
 "metadata": {
  "kernelspec": {
   "display_name": "venv",
   "language": "python",
   "name": "venv"
  },
  "language_info": {
   "codemirror_mode": {
    "name": "ipython",
    "version": 3
   },
   "file_extension": ".py",
   "mimetype": "text/x-python",
   "name": "python",
   "nbconvert_exporter": "python",
   "pygments_lexer": "ipython3",
   "version": "3.6.9"
  }
 },
 "nbformat": 4,
 "nbformat_minor": 4
}
